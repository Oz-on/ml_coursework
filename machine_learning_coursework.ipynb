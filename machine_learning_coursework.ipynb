{
  "cells": [
    {
      "cell_type": "markdown",
      "metadata": {
        "id": "LNPCmpWVXxqZ"
      },
      "source": [
        "# COMP-1816 Coursework\n",
        "\n",
        "This is a coding part for the machine learning **coursework**"
      ]
    },
    {
      "cell_type": "markdown",
      "metadata": {
        "id": "BBwmJr0SYaRh"
      },
      "source": [
        "## California Housing\n",
        "\n",
        "The data provided is a modified version of benchmark California housing dataset. In this task you are required to build predictive models to **predict median_house_value** and then evaluating the performance of different models.\n",
        "\n",
        "### Data columns\n",
        "- No.\n",
        "- longitude, \n",
        "- latitude, \n",
        "- housing_median_age\n",
        "- total_rooms\n",
        "- total_bedrooms\n",
        "- population\n",
        "- households\n",
        "- median_income\n",
        "- median_house_value (this is the target label)\n",
        "- ocean_proximity\n",
        "\n",
        "## Titanic Dataset\n",
        "\n",
        "The sinking of the Titanic is one of the most infamous shipwrecks in history. In this challenge, we ask you to build a predictive model that to predict: \"what sorts of people were more likely to survive\" using passenger data (name, age, geneder, socio-economic class, etc) and then evaluating the performance of different models.\n",
        "\n",
        "\n",
        "## Objectives:\n",
        "For each task, at least **TWO** machine learning models (one main model and at least one baseline model) are implemented. The main model is the model that you think would be most suitable for the task. You need to clarify the reason for choosing the model and describe it in detail. The baseline models are the models to be compared with the main model. The implemented models must contain one or more models that you have learned in the module COMP1816. You need to evaluate these models and analyse the reason why the main model is better/worse than the baseline models."
      ]
    },
    {
      "cell_type": "code",
      "execution_count": 2,
      "metadata": {
        "id": "IuS_1fA4cUwP"
      },
      "outputs": [],
      "source": [
        "import numpy as np\n",
        "import pandas as pd\n",
        "from sklearn.model_selection import GridSearchCV\n",
        "from sklearn.preprocessing import OneHotEncoder, StandardScaler, QuantileTransformer, quantile_transform, OrdinalEncoder\n",
        "from sklearn.linear_model import LinearRegression, Ridge, LogisticRegression\n",
        "from sklearn.neural_network import MLPRegressor\n",
        "from sklearn.svm import SVC\n",
        "from sklearn.compose import TransformedTargetRegressor\n",
        "from sklearn.metrics import mean_squared_error, r2_score, PredictionErrorDisplay, accuracy_score, confusion_matrix, f1_score\n",
        "from sklearn import metrics\n",
        "import matplotlib.pyplot as plt\n",
        "import seaborn as sn\n",
        "import scipy"
      ]
    },
    {
      "cell_type": "markdown",
      "metadata": {
        "id": "t4xqvNUkbGWW"
      },
      "source": [
        "## Part One - **Regression**"
      ]
    },
    {
      "cell_type": "markdown",
      "metadata": {
        "id": "qVDM11jtIr7N"
      },
      "source": [
        "### Helper functions"
      ]
    },
    {
      "cell_type": "code",
      "execution_count": 55,
      "metadata": {
        "id": "CIYMW3zrg7uF"
      },
      "outputs": [],
      "source": [
        "def compute_score(y_true, y_pred):\n",
        "    return {\n",
        "        \"R2\": f\"{r2_score(y_true, y_pred):.3f}\",\n",
        "        \"MSE\": f\"{mean_squared_error(y_true, y_pred):.3f}\",\n",
        "    }"
      ]
    },
    {
      "cell_type": "code",
      "execution_count": 56,
      "metadata": {
        "id": "O1uG8sYYS4HX"
      },
      "outputs": [],
      "source": [
        "def split_to_features_and_labels(file_name):\n",
        "  # Firstly separate features from the labels\n",
        "  data = pd.read_csv(file_name)\n",
        "\n",
        "  features = [\n",
        "      'longitude', \n",
        "      'latitude', \n",
        "      'housing_median_age', \n",
        "      'total_rooms', \n",
        "      'total_bedrooms',\n",
        "      'population',\n",
        "      'households',\n",
        "      'median_income',\n",
        "      'ocean_proximity'\n",
        "  ]\n",
        "\n",
        "  X = data[features]\n",
        "  y = data['median_house_value']\n",
        "\n",
        "  return [X, y]"
      ]
    },
    {
      "cell_type": "code",
      "execution_count": 57,
      "metadata": {
        "id": "7XQj3c8L92cc"
      },
      "outputs": [],
      "source": [
        "def show_numerical_stats(df, feature_label):\n",
        "  series = X_train_raw[feature_label]\n",
        "\n",
        "  print(\"min value: \", series.min())\n",
        "  print(\"max value: \", series.max())\n",
        "  print(\"Numbrt of null entries: \", series.isnull().sum())\n",
        "\n",
        "  fig, axs = plt.subplots(nrows=1, ncols=2, figsize=(10, 5))\n",
        "\n",
        "  series.plot.hist(ax=axs[0], bins=50)\n",
        "  axs[0].set_title(f'Histogram of {feature_label}')\n",
        "\n",
        "  series.plot.box(ax=axs[1])\n",
        "  axs[1].set_title(f'Boxplot of {feature_label}')\n",
        "\n",
        "  plt.show()"
      ]
    },
    {
      "cell_type": "code",
      "execution_count": 58,
      "metadata": {
        "id": "AaA2evFdKA7P"
      },
      "outputs": [],
      "source": [
        "def show_target_analysis(series):\n",
        "  fig, axs = plt.subplots(nrows=1, ncols=2, figsize=(10, 5))\n",
        "\n",
        "  series.plot.hist(ax=axs[0], bins=100)\n",
        "  axs[0].set_title(\"Histogram of target values\")\n",
        "\n",
        "  series.plot.box(ax=axs[1])\n",
        "  axs[1].set_title(\"Boxplot of target values\")"
      ]
    },
    {
      "cell_type": "code",
      "execution_count": 59,
      "metadata": {
        "id": "VDAzoI_GPPnT"
      },
      "outputs": [],
      "source": [
        "# Plot the probability density functionns of the target before and after apllying logarithmic function and Quantile function\n",
        "def show_target_density(target_data):\n",
        "  fig, axs = plt.subplots(1, 3, figsize=(15, 5))\n",
        "\n",
        "  axs[0].hist(target_data, bins=100, density=True)\n",
        "  axs[0].set_ylabel(\"Probability\")\n",
        "  axs[0].set_xlabel(\"Target\")\n",
        "  axs[0].set_title(\"Target distribution\")\n",
        "\n",
        "  axs[1].hist(np.log1p(target_data), bins=100, density=True)\n",
        "  axs[1].set_ylabel(\"Probability\")\n",
        "  axs[1].set_xlabel(\"Target\")\n",
        "  axs[1].set_title(\"Transformed target distribution with the use of logarithmic function\")\n",
        "\n",
        "  axs[2].hist(quantile_transform(target_data.to_frame(), n_quantiles=900, output_distribution=\"normal\", copy=True), bins=100, density=True)\n",
        "  axs[2].set_ylabel(\"Probability\")\n",
        "  axs[2].set_xlabel(\"Target\")\n",
        "  axs[2].set_title(\"Transformed target distribution with the use of quantile transform\")"
      ]
    },
    {
      "cell_type": "code",
      "execution_count": 60,
      "metadata": {
        "id": "7KNX0d7uPVCJ"
      },
      "outputs": [],
      "source": [
        "def impute_data(X_train, X_test):\n",
        "  \"\"\" \n",
        "  I will use mean of the values from the column where the data is missing and\n",
        "  then fill that missing values with the mean.\n",
        "  \"\"\"\n",
        "\n",
        "  total_bedrooms_mean = float(int(X_train[\"total_bedrooms\"].mean()))\n",
        "\n",
        "  # Use the mean to fill all empty values from that column with the mean value\n",
        "  X_train['total_bedrooms'] = X_train['total_bedrooms'].fillna(total_bedrooms_mean)\n",
        "  X_test['total_bedrooms'] = X_test['total_bedrooms'].fillna(total_bedrooms_mean)\n",
        "\n",
        "  return X_train, X_test"
      ]
    },
    {
      "cell_type": "code",
      "execution_count": 61,
      "metadata": {
        "id": "3TsjcYe4PbXj"
      },
      "outputs": [],
      "source": [
        "def preprocess_data(X_train, X_test, drop_cols=None):\n",
        "\n",
        "  # Firstly impute data\n",
        "  X_train_inputed, X_test_inputed = impute_data(X_train, X_test)\n",
        "\n",
        "  if drop_cols is not None:\n",
        "    X_train_inputed = X_train_inputed.drop(columns=drop_cols)\n",
        "    X_test_inputed = X_test_inputed.drop(columns=drop_cols)\n",
        "  \n",
        "\n",
        "  # Firstly separate categorical features from numerical features\n",
        "  X_train_numerical = X_train_inputed.select_dtypes(include=np.number)\n",
        "  X_test_numerical = X_test_inputed.select_dtypes(include=np.number)\n",
        "  \n",
        "  X_train_categorical = X_train_inputed.select_dtypes(exclude=np.number)\n",
        "  X_test_categorical = X_test_inputed.select_dtypes(exclude=np.number)\n",
        "\n",
        "  # Standardise dataset\n",
        "  numerical_feature_scaler = StandardScaler().fit(X_train_numerical)\n",
        "\n",
        "  X_train_numerical_standardised = numerical_feature_scaler.transform(X_train_numerical)\n",
        "  X_test_numerical_standardised = numerical_feature_scaler.transform(X_test_numerical)\n",
        "\n",
        "  # Apply One-Hot encoding to categorical features\n",
        "  categorical_encoder = OneHotEncoder().fit(X_train_categorical)\n",
        "\n",
        "  X_train_categorical_encoded = categorical_encoder.transform(X_train_categorical)\n",
        "  X_test_categorical_encoded = categorical_encoder.transform(X_test_categorical)\n",
        "\n",
        "  # Merge categorical and numerical data\n",
        "  X_train = np.hstack([X_train_numerical_standardised, X_train_categorical_encoded.toarray()])\n",
        "  X_test = np.hstack([X_test_numerical_standardised, X_test_categorical_encoded.toarray()])\n",
        "\n",
        "  return X_train, X_test"
      ]
    },
    {
      "cell_type": "markdown",
      "metadata": {
        "id": "htVPkwx-bQLU"
      },
      "source": [
        "### Firstly load the data and perform the analysis"
      ]
    },
    {
      "cell_type": "code",
      "execution_count": 63,
      "metadata": {
        "id": "-W8JYr6rHjiS"
      },
      "outputs": [],
      "source": [
        "data = pd.read_csv('./housing_coursework_train.csv')\n",
        "X_train_raw, y_train = split_to_features_and_labels(\"./housing_coursework_train.csv\")\n",
        "X_test_raw, y_test = split_to_features_and_labels(\"./housing_coursework_test.csv\")"
      ]
    },
    {
      "cell_type": "markdown",
      "metadata": {
        "id": "Cr6M2f4Rherw"
      },
      "source": [
        "### Data overview"
      ]
    },
    {
      "cell_type": "markdown",
      "metadata": {
        "id": "R5-WMf9BhOK2"
      },
      "source": [
        "#### General overview"
      ]
    },
    {
      "cell_type": "code",
      "execution_count": 64,
      "metadata": {
        "id": "cpKFcn4IfqW6",
        "colab": {
          "base_uri": "https://localhost:8080/",
          "height": 755
        },
        "outputId": "b232eee4-f791-4054-e4eb-5d6eaef4c2cb"
      },
      "outputs": [
        {
          "output_type": "display_data",
          "data": {
            "text/plain": [
              "     longitude  latitude  housing_median_age  total_rooms  total_bedrooms  \\\n",
              "0      -122.21     37.83                  34         5065           788.0   \n",
              "1      -122.22     37.77                  52          391           128.0   \n",
              "2      -122.23     37.79                  30          610           145.0   \n",
              "3      -122.20     37.78                  52         2300           443.0   \n",
              "4      -122.19     37.79                  50          954           217.0   \n",
              "..         ...       ...                 ...          ...             ...   \n",
              "795    -122.55     37.79                  32         2131           625.0   \n",
              "796    -121.29     37.96                  52          287           119.0   \n",
              "797    -121.32     37.97                  46         2270           427.0   \n",
              "798    -121.29     37.97                  52         2995           555.0   \n",
              "799    -121.29     37.99                  30         1271           528.0   \n",
              "\n",
              "     population  households  median_income ocean_proximity  \n",
              "0          1627         766         6.8976        NEAR BAY  \n",
              "1           520         138         1.6471        NEAR BAY  \n",
              "2           425         140         1.6198        NEAR BAY  \n",
              "3          1225         423         3.5398        NEAR BAY  \n",
              "4           546         201         2.6667        NEAR BAY  \n",
              "..          ...         ...            ...             ...  \n",
              "795        1229         572         2.9201      NEAR OCEAN  \n",
              "796         154          85         0.8738          INLAND  \n",
              "797        1097         453         3.3235          INLAND  \n",
              "798        1392         503         1.7794          INLAND  \n",
              "799        2019         524         1.5152          INLAND  \n",
              "\n",
              "[800 rows x 9 columns]"
            ],
            "text/html": [
              "\n",
              "  <div id=\"df-36910078-0b7d-4b20-ab31-7620b73b3579\">\n",
              "    <div class=\"colab-df-container\">\n",
              "      <div>\n",
              "<style scoped>\n",
              "    .dataframe tbody tr th:only-of-type {\n",
              "        vertical-align: middle;\n",
              "    }\n",
              "\n",
              "    .dataframe tbody tr th {\n",
              "        vertical-align: top;\n",
              "    }\n",
              "\n",
              "    .dataframe thead th {\n",
              "        text-align: right;\n",
              "    }\n",
              "</style>\n",
              "<table border=\"1\" class=\"dataframe\">\n",
              "  <thead>\n",
              "    <tr style=\"text-align: right;\">\n",
              "      <th></th>\n",
              "      <th>longitude</th>\n",
              "      <th>latitude</th>\n",
              "      <th>housing_median_age</th>\n",
              "      <th>total_rooms</th>\n",
              "      <th>total_bedrooms</th>\n",
              "      <th>population</th>\n",
              "      <th>households</th>\n",
              "      <th>median_income</th>\n",
              "      <th>ocean_proximity</th>\n",
              "    </tr>\n",
              "  </thead>\n",
              "  <tbody>\n",
              "    <tr>\n",
              "      <th>0</th>\n",
              "      <td>-122.21</td>\n",
              "      <td>37.83</td>\n",
              "      <td>34</td>\n",
              "      <td>5065</td>\n",
              "      <td>788.0</td>\n",
              "      <td>1627</td>\n",
              "      <td>766</td>\n",
              "      <td>6.8976</td>\n",
              "      <td>NEAR BAY</td>\n",
              "    </tr>\n",
              "    <tr>\n",
              "      <th>1</th>\n",
              "      <td>-122.22</td>\n",
              "      <td>37.77</td>\n",
              "      <td>52</td>\n",
              "      <td>391</td>\n",
              "      <td>128.0</td>\n",
              "      <td>520</td>\n",
              "      <td>138</td>\n",
              "      <td>1.6471</td>\n",
              "      <td>NEAR BAY</td>\n",
              "    </tr>\n",
              "    <tr>\n",
              "      <th>2</th>\n",
              "      <td>-122.23</td>\n",
              "      <td>37.79</td>\n",
              "      <td>30</td>\n",
              "      <td>610</td>\n",
              "      <td>145.0</td>\n",
              "      <td>425</td>\n",
              "      <td>140</td>\n",
              "      <td>1.6198</td>\n",
              "      <td>NEAR BAY</td>\n",
              "    </tr>\n",
              "    <tr>\n",
              "      <th>3</th>\n",
              "      <td>-122.20</td>\n",
              "      <td>37.78</td>\n",
              "      <td>52</td>\n",
              "      <td>2300</td>\n",
              "      <td>443.0</td>\n",
              "      <td>1225</td>\n",
              "      <td>423</td>\n",
              "      <td>3.5398</td>\n",
              "      <td>NEAR BAY</td>\n",
              "    </tr>\n",
              "    <tr>\n",
              "      <th>4</th>\n",
              "      <td>-122.19</td>\n",
              "      <td>37.79</td>\n",
              "      <td>50</td>\n",
              "      <td>954</td>\n",
              "      <td>217.0</td>\n",
              "      <td>546</td>\n",
              "      <td>201</td>\n",
              "      <td>2.6667</td>\n",
              "      <td>NEAR BAY</td>\n",
              "    </tr>\n",
              "    <tr>\n",
              "      <th>...</th>\n",
              "      <td>...</td>\n",
              "      <td>...</td>\n",
              "      <td>...</td>\n",
              "      <td>...</td>\n",
              "      <td>...</td>\n",
              "      <td>...</td>\n",
              "      <td>...</td>\n",
              "      <td>...</td>\n",
              "      <td>...</td>\n",
              "    </tr>\n",
              "    <tr>\n",
              "      <th>795</th>\n",
              "      <td>-122.55</td>\n",
              "      <td>37.79</td>\n",
              "      <td>32</td>\n",
              "      <td>2131</td>\n",
              "      <td>625.0</td>\n",
              "      <td>1229</td>\n",
              "      <td>572</td>\n",
              "      <td>2.9201</td>\n",
              "      <td>NEAR OCEAN</td>\n",
              "    </tr>\n",
              "    <tr>\n",
              "      <th>796</th>\n",
              "      <td>-121.29</td>\n",
              "      <td>37.96</td>\n",
              "      <td>52</td>\n",
              "      <td>287</td>\n",
              "      <td>119.0</td>\n",
              "      <td>154</td>\n",
              "      <td>85</td>\n",
              "      <td>0.8738</td>\n",
              "      <td>INLAND</td>\n",
              "    </tr>\n",
              "    <tr>\n",
              "      <th>797</th>\n",
              "      <td>-121.32</td>\n",
              "      <td>37.97</td>\n",
              "      <td>46</td>\n",
              "      <td>2270</td>\n",
              "      <td>427.0</td>\n",
              "      <td>1097</td>\n",
              "      <td>453</td>\n",
              "      <td>3.3235</td>\n",
              "      <td>INLAND</td>\n",
              "    </tr>\n",
              "    <tr>\n",
              "      <th>798</th>\n",
              "      <td>-121.29</td>\n",
              "      <td>37.97</td>\n",
              "      <td>52</td>\n",
              "      <td>2995</td>\n",
              "      <td>555.0</td>\n",
              "      <td>1392</td>\n",
              "      <td>503</td>\n",
              "      <td>1.7794</td>\n",
              "      <td>INLAND</td>\n",
              "    </tr>\n",
              "    <tr>\n",
              "      <th>799</th>\n",
              "      <td>-121.29</td>\n",
              "      <td>37.99</td>\n",
              "      <td>30</td>\n",
              "      <td>1271</td>\n",
              "      <td>528.0</td>\n",
              "      <td>2019</td>\n",
              "      <td>524</td>\n",
              "      <td>1.5152</td>\n",
              "      <td>INLAND</td>\n",
              "    </tr>\n",
              "  </tbody>\n",
              "</table>\n",
              "<p>800 rows × 9 columns</p>\n",
              "</div>\n",
              "      <button class=\"colab-df-convert\" onclick=\"convertToInteractive('df-36910078-0b7d-4b20-ab31-7620b73b3579')\"\n",
              "              title=\"Convert this dataframe to an interactive table.\"\n",
              "              style=\"display:none;\">\n",
              "        \n",
              "  <svg xmlns=\"http://www.w3.org/2000/svg\" height=\"24px\"viewBox=\"0 0 24 24\"\n",
              "       width=\"24px\">\n",
              "    <path d=\"M0 0h24v24H0V0z\" fill=\"none\"/>\n",
              "    <path d=\"M18.56 5.44l.94 2.06.94-2.06 2.06-.94-2.06-.94-.94-2.06-.94 2.06-2.06.94zm-11 1L8.5 8.5l.94-2.06 2.06-.94-2.06-.94L8.5 2.5l-.94 2.06-2.06.94zm10 10l.94 2.06.94-2.06 2.06-.94-2.06-.94-.94-2.06-.94 2.06-2.06.94z\"/><path d=\"M17.41 7.96l-1.37-1.37c-.4-.4-.92-.59-1.43-.59-.52 0-1.04.2-1.43.59L10.3 9.45l-7.72 7.72c-.78.78-.78 2.05 0 2.83L4 21.41c.39.39.9.59 1.41.59.51 0 1.02-.2 1.41-.59l7.78-7.78 2.81-2.81c.8-.78.8-2.07 0-2.86zM5.41 20L4 18.59l7.72-7.72 1.47 1.35L5.41 20z\"/>\n",
              "  </svg>\n",
              "      </button>\n",
              "      \n",
              "  <style>\n",
              "    .colab-df-container {\n",
              "      display:flex;\n",
              "      flex-wrap:wrap;\n",
              "      gap: 12px;\n",
              "    }\n",
              "\n",
              "    .colab-df-convert {\n",
              "      background-color: #E8F0FE;\n",
              "      border: none;\n",
              "      border-radius: 50%;\n",
              "      cursor: pointer;\n",
              "      display: none;\n",
              "      fill: #1967D2;\n",
              "      height: 32px;\n",
              "      padding: 0 0 0 0;\n",
              "      width: 32px;\n",
              "    }\n",
              "\n",
              "    .colab-df-convert:hover {\n",
              "      background-color: #E2EBFA;\n",
              "      box-shadow: 0px 1px 2px rgba(60, 64, 67, 0.3), 0px 1px 3px 1px rgba(60, 64, 67, 0.15);\n",
              "      fill: #174EA6;\n",
              "    }\n",
              "\n",
              "    [theme=dark] .colab-df-convert {\n",
              "      background-color: #3B4455;\n",
              "      fill: #D2E3FC;\n",
              "    }\n",
              "\n",
              "    [theme=dark] .colab-df-convert:hover {\n",
              "      background-color: #434B5C;\n",
              "      box-shadow: 0px 1px 3px 1px rgba(0, 0, 0, 0.15);\n",
              "      filter: drop-shadow(0px 1px 2px rgba(0, 0, 0, 0.3));\n",
              "      fill: #FFFFFF;\n",
              "    }\n",
              "  </style>\n",
              "\n",
              "      <script>\n",
              "        const buttonEl =\n",
              "          document.querySelector('#df-36910078-0b7d-4b20-ab31-7620b73b3579 button.colab-df-convert');\n",
              "        buttonEl.style.display =\n",
              "          google.colab.kernel.accessAllowed ? 'block' : 'none';\n",
              "\n",
              "        async function convertToInteractive(key) {\n",
              "          const element = document.querySelector('#df-36910078-0b7d-4b20-ab31-7620b73b3579');\n",
              "          const dataTable =\n",
              "            await google.colab.kernel.invokeFunction('convertToInteractive',\n",
              "                                                     [key], {});\n",
              "          if (!dataTable) return;\n",
              "\n",
              "          const docLinkHtml = 'Like what you see? Visit the ' +\n",
              "            '<a target=\"_blank\" href=https://colab.research.google.com/notebooks/data_table.ipynb>data table notebook</a>'\n",
              "            + ' to learn more about interactive tables.';\n",
              "          element.innerHTML = '';\n",
              "          dataTable['output_type'] = 'display_data';\n",
              "          await google.colab.output.renderOutput(dataTable, element);\n",
              "          const docLink = document.createElement('div');\n",
              "          docLink.innerHTML = docLinkHtml;\n",
              "          element.appendChild(docLink);\n",
              "        }\n",
              "      </script>\n",
              "    </div>\n",
              "  </div>\n",
              "  "
            ]
          },
          "metadata": {}
        },
        {
          "output_type": "stream",
          "name": "stdout",
          "text": [
            "<class 'pandas.core.frame.DataFrame'>\n",
            "RangeIndex: 800 entries, 0 to 799\n",
            "Data columns (total 9 columns):\n",
            " #   Column              Non-Null Count  Dtype  \n",
            "---  ------              --------------  -----  \n",
            " 0   longitude           800 non-null    float64\n",
            " 1   latitude            800 non-null    float64\n",
            " 2   housing_median_age  800 non-null    int64  \n",
            " 3   total_rooms         800 non-null    int64  \n",
            " 4   total_bedrooms      792 non-null    float64\n",
            " 5   population          800 non-null    int64  \n",
            " 6   households          800 non-null    int64  \n",
            " 7   median_income       800 non-null    float64\n",
            " 8   ocean_proximity     800 non-null    object \n",
            "dtypes: float64(4), int64(4), object(1)\n",
            "memory usage: 56.4+ KB\n"
          ]
        }
      ],
      "source": [
        "display(X_train_raw)\n",
        "X_train_raw.info()"
      ]
    },
    {
      "cell_type": "code",
      "execution_count": 65,
      "metadata": {
        "id": "d7_mvWoy-viX",
        "colab": {
          "base_uri": "https://localhost:8080/",
          "height": 283
        },
        "outputId": "5ff6fa33-1fd6-412d-c619-0ee6c9433c7f"
      },
      "outputs": [
        {
          "output_type": "execute_result",
          "data": {
            "text/plain": [
              "<AxesSubplot:>"
            ]
          },
          "metadata": {},
          "execution_count": 65
        },
        {
          "output_type": "display_data",
          "data": {
            "text/plain": [
              "<Figure size 432x288 with 1 Axes>"
            ],
            "image/png": "[encoded data removed]"
          },
          "metadata": {
            "needs_background": "light"
          }
        }
      ],
      "source": [
        "X_train_raw.select_dtypes(include=np.number).plot.box()"
      ]
    },
    {
      "cell_type": "code",
      "execution_count": 66,
      "metadata": {
        "id": "W_SRgssAqfLJ",
        "colab": {
          "base_uri": "https://localhost:8080/",
          "height": 755
        },
        "outputId": "a2ee2904-c1fc-46b0-9d55-8767ec7b5d60"
      },
      "outputs": [
        {
          "output_type": "display_data",
          "data": {
            "text/plain": [
              "     longitude  latitude  housing_median_age  total_rooms  total_bedrooms  \\\n",
              "0      -121.26     37.93                  33         2109           531.0   \n",
              "1      -121.28     37.94                  40         2806           685.0   \n",
              "2      -121.24     37.98                  33          450           123.0   \n",
              "3      -121.23     37.96                  44         2204           473.0   \n",
              "4      -121.33     38.00                  32         4474           929.0   \n",
              "..         ...       ...                 ...          ...             ...   \n",
              "215    -121.70     38.65                  22         1360           282.0   \n",
              "216    -121.92     38.57                  10         1320           246.0   \n",
              "217    -122.00     38.83                  26          272            49.0   \n",
              "218    -122.03     38.69                  23         1796           380.0   \n",
              "219    -121.58     39.14                  52          662           160.0   \n",
              "\n",
              "     population  households  median_income ocean_proximity  \n",
              "0          2248         588         1.4583          INLAND  \n",
              "1          2268         635         1.8814          INLAND  \n",
              "2           236         103         1.1964          INLAND  \n",
              "3          1277         435         1.5539          INLAND  \n",
              "4          2177         884         3.2889          INLAND  \n",
              "..          ...         ...            ...             ...  \n",
              "215         808         229         2.4167          INLAND  \n",
              "216         898         228         1.9327          INLAND  \n",
              "217         194          52         3.4187          INLAND  \n",
              "218         939         330         2.7955          INLAND  \n",
              "219         520         149         0.8928          INLAND  \n",
              "\n",
              "[220 rows x 9 columns]"
            ],
            "text/html": [
              "\n",
              "  <div id=\"df-fcb0cdcf-8f0e-47dd-b440-2cf8a1149b3c\">\n",
              "    <div class=\"colab-df-container\">\n",
              "      <div>\n",
              "<style scoped>\n",
              "    .dataframe tbody tr th:only-of-type {\n",
              "        vertical-align: middle;\n",
              "    }\n",
              "\n",
              "    .dataframe tbody tr th {\n",
              "        vertical-align: top;\n",
              "    }\n",
              "\n",
              "    .dataframe thead th {\n",
              "        text-align: right;\n",
              "    }\n",
              "</style>\n",
              "<table border=\"1\" class=\"dataframe\">\n",
              "  <thead>\n",
              "    <tr style=\"text-align: right;\">\n",
              "      <th></th>\n",
              "      <th>longitude</th>\n",
              "      <th>latitude</th>\n",
              "      <th>housing_median_age</th>\n",
              "      <th>total_rooms</th>\n",
              "      <th>total_bedrooms</th>\n",
              "      <th>population</th>\n",
              "      <th>households</th>\n",
              "      <th>median_income</th>\n",
              "      <th>ocean_proximity</th>\n",
              "    </tr>\n",
              "  </thead>\n",
              "  <tbody>\n",
              "    <tr>\n",
              "      <th>0</th>\n",
              "      <td>-121.26</td>\n",
              "      <td>37.93</td>\n",
              "      <td>33</td>\n",
              "      <td>2109</td>\n",
              "      <td>531.0</td>\n",
              "      <td>2248</td>\n",
              "      <td>588</td>\n",
              "      <td>1.4583</td>\n",
              "      <td>INLAND</td>\n",
              "    </tr>\n",
              "    <tr>\n",
              "      <th>1</th>\n",
              "      <td>-121.28</td>\n",
              "      <td>37.94</td>\n",
              "      <td>40</td>\n",
              "      <td>2806</td>\n",
              "      <td>685.0</td>\n",
              "      <td>2268</td>\n",
              "      <td>635</td>\n",
              "      <td>1.8814</td>\n",
              "      <td>INLAND</td>\n",
              "    </tr>\n",
              "    <tr>\n",
              "      <th>2</th>\n",
              "      <td>-121.24</td>\n",
              "      <td>37.98</td>\n",
              "      <td>33</td>\n",
              "      <td>450</td>\n",
              "      <td>123.0</td>\n",
              "      <td>236</td>\n",
              "      <td>103</td>\n",
              "      <td>1.1964</td>\n",
              "      <td>INLAND</td>\n",
              "    </tr>\n",
              "    <tr>\n",
              "      <th>3</th>\n",
              "      <td>-121.23</td>\n",
              "      <td>37.96</td>\n",
              "      <td>44</td>\n",
              "      <td>2204</td>\n",
              "      <td>473.0</td>\n",
              "      <td>1277</td>\n",
              "      <td>435</td>\n",
              "      <td>1.5539</td>\n",
              "      <td>INLAND</td>\n",
              "    </tr>\n",
              "    <tr>\n",
              "      <th>4</th>\n",
              "      <td>-121.33</td>\n",
              "      <td>38.00</td>\n",
              "      <td>32</td>\n",
              "      <td>4474</td>\n",
              "      <td>929.0</td>\n",
              "      <td>2177</td>\n",
              "      <td>884</td>\n",
              "      <td>3.2889</td>\n",
              "      <td>INLAND</td>\n",
              "    </tr>\n",
              "    <tr>\n",
              "      <th>...</th>\n",
              "      <td>...</td>\n",
              "      <td>...</td>\n",
              "      <td>...</td>\n",
              "      <td>...</td>\n",
              "      <td>...</td>\n",
              "      <td>...</td>\n",
              "      <td>...</td>\n",
              "      <td>...</td>\n",
              "      <td>...</td>\n",
              "    </tr>\n",
              "    <tr>\n",
              "      <th>215</th>\n",
              "      <td>-121.70</td>\n",
              "      <td>38.65</td>\n",
              "      <td>22</td>\n",
              "      <td>1360</td>\n",
              "      <td>282.0</td>\n",
              "      <td>808</td>\n",
              "      <td>229</td>\n",
              "      <td>2.4167</td>\n",
              "      <td>INLAND</td>\n",
              "    </tr>\n",
              "    <tr>\n",
              "      <th>216</th>\n",
              "      <td>-121.92</td>\n",
              "      <td>38.57</td>\n",
              "      <td>10</td>\n",
              "      <td>1320</td>\n",
              "      <td>246.0</td>\n",
              "      <td>898</td>\n",
              "      <td>228</td>\n",
              "      <td>1.9327</td>\n",
              "      <td>INLAND</td>\n",
              "    </tr>\n",
              "    <tr>\n",
              "      <th>217</th>\n",
              "      <td>-122.00</td>\n",
              "      <td>38.83</td>\n",
              "      <td>26</td>\n",
              "      <td>272</td>\n",
              "      <td>49.0</td>\n",
              "      <td>194</td>\n",
              "      <td>52</td>\n",
              "      <td>3.4187</td>\n",
              "      <td>INLAND</td>\n",
              "    </tr>\n",
              "    <tr>\n",
              "      <th>218</th>\n",
              "      <td>-122.03</td>\n",
              "      <td>38.69</td>\n",
              "      <td>23</td>\n",
              "      <td>1796</td>\n",
              "      <td>380.0</td>\n",
              "      <td>939</td>\n",
              "      <td>330</td>\n",
              "      <td>2.7955</td>\n",
              "      <td>INLAND</td>\n",
              "    </tr>\n",
              "    <tr>\n",
              "      <th>219</th>\n",
              "      <td>-121.58</td>\n",
              "      <td>39.14</td>\n",
              "      <td>52</td>\n",
              "      <td>662</td>\n",
              "      <td>160.0</td>\n",
              "      <td>520</td>\n",
              "      <td>149</td>\n",
              "      <td>0.8928</td>\n",
              "      <td>INLAND</td>\n",
              "    </tr>\n",
              "  </tbody>\n",
              "</table>\n",
              "<p>220 rows × 9 columns</p>\n",
              "</div>\n",
              "      <button class=\"colab-df-convert\" onclick=\"convertToInteractive('df-fcb0cdcf-8f0e-47dd-b440-2cf8a1149b3c')\"\n",
              "              title=\"Convert this dataframe to an interactive table.\"\n",
              "              style=\"display:none;\">\n",
              "        \n",
              "  <svg xmlns=\"http://www.w3.org/2000/svg\" height=\"24px\"viewBox=\"0 0 24 24\"\n",
              "       width=\"24px\">\n",
              "    <path d=\"M0 0h24v24H0V0z\" fill=\"none\"/>\n",
              "    <path d=\"M18.56 5.44l.94 2.06.94-2.06 2.06-.94-2.06-.94-.94-2.06-.94 2.06-2.06.94zm-11 1L8.5 8.5l.94-2.06 2.06-.94-2.06-.94L8.5 2.5l-.94 2.06-2.06.94zm10 10l.94 2.06.94-2.06 2.06-.94-2.06-.94-.94-2.06-.94 2.06-2.06.94z\"/><path d=\"M17.41 7.96l-1.37-1.37c-.4-.4-.92-.59-1.43-.59-.52 0-1.04.2-1.43.59L10.3 9.45l-7.72 7.72c-.78.78-.78 2.05 0 2.83L4 21.41c.39.39.9.59 1.41.59.51 0 1.02-.2 1.41-.59l7.78-7.78 2.81-2.81c.8-.78.8-2.07 0-2.86zM5.41 20L4 18.59l7.72-7.72 1.47 1.35L5.41 20z\"/>\n",
              "  </svg>\n",
              "      </button>\n",
              "      \n",
              "  <style>\n",
              "    .colab-df-container {\n",
              "      display:flex;\n",
              "      flex-wrap:wrap;\n",
              "      gap: 12px;\n",
              "    }\n",
              "\n",
              "    .colab-df-convert {\n",
              "      background-color: #E8F0FE;\n",
              "      border: none;\n",
              "      border-radius: 50%;\n",
              "      cursor: pointer;\n",
              "      display: none;\n",
              "      fill: #1967D2;\n",
              "      height: 32px;\n",
              "      padding: 0 0 0 0;\n",
              "      width: 32px;\n",
              "    }\n",
              "\n",
              "    .colab-df-convert:hover {\n",
              "      background-color: #E2EBFA;\n",
              "      box-shadow: 0px 1px 2px rgba(60, 64, 67, 0.3), 0px 1px 3px 1px rgba(60, 64, 67, 0.15);\n",
              "      fill: #174EA6;\n",
              "    }\n",
              "\n",
              "    [theme=dark] .colab-df-convert {\n",
              "      background-color: #3B4455;\n",
              "      fill: #D2E3FC;\n",
              "    }\n",
              "\n",
              "    [theme=dark] .colab-df-convert:hover {\n",
              "      background-color: #434B5C;\n",
              "      box-shadow: 0px 1px 3px 1px rgba(0, 0, 0, 0.15);\n",
              "      filter: drop-shadow(0px 1px 2px rgba(0, 0, 0, 0.3));\n",
              "      fill: #FFFFFF;\n",
              "    }\n",
              "  </style>\n",
              "\n",
              "      <script>\n",
              "        const buttonEl =\n",
              "          document.querySelector('#df-fcb0cdcf-8f0e-47dd-b440-2cf8a1149b3c button.colab-df-convert');\n",
              "        buttonEl.style.display =\n",
              "          google.colab.kernel.accessAllowed ? 'block' : 'none';\n",
              "\n",
              "        async function convertToInteractive(key) {\n",
              "          const element = document.querySelector('#df-fcb0cdcf-8f0e-47dd-b440-2cf8a1149b3c');\n",
              "          const dataTable =\n",
              "            await google.colab.kernel.invokeFunction('convertToInteractive',\n",
              "                                                     [key], {});\n",
              "          if (!dataTable) return;\n",
              "\n",
              "          const docLinkHtml = 'Like what you see? Visit the ' +\n",
              "            '<a target=\"_blank\" href=https://colab.research.google.com/notebooks/data_table.ipynb>data table notebook</a>'\n",
              "            + ' to learn more about interactive tables.';\n",
              "          element.innerHTML = '';\n",
              "          dataTable['output_type'] = 'display_data';\n",
              "          await google.colab.output.renderOutput(dataTable, element);\n",
              "          const docLink = document.createElement('div');\n",
              "          docLink.innerHTML = docLinkHtml;\n",
              "          element.appendChild(docLink);\n",
              "        }\n",
              "      </script>\n",
              "    </div>\n",
              "  </div>\n",
              "  "
            ]
          },
          "metadata": {}
        },
        {
          "output_type": "stream",
          "name": "stdout",
          "text": [
            "<class 'pandas.core.frame.DataFrame'>\n",
            "RangeIndex: 220 entries, 0 to 219\n",
            "Data columns (total 9 columns):\n",
            " #   Column              Non-Null Count  Dtype  \n",
            "---  ------              --------------  -----  \n",
            " 0   longitude           220 non-null    float64\n",
            " 1   latitude            220 non-null    float64\n",
            " 2   housing_median_age  220 non-null    int64  \n",
            " 3   total_rooms         220 non-null    int64  \n",
            " 4   total_bedrooms      219 non-null    float64\n",
            " 5   population          220 non-null    int64  \n",
            " 6   households          220 non-null    int64  \n",
            " 7   median_income       220 non-null    float64\n",
            " 8   ocean_proximity     220 non-null    object \n",
            "dtypes: float64(4), int64(4), object(1)\n",
            "memory usage: 15.6+ KB\n"
          ]
        }
      ],
      "source": [
        "display(X_test_raw)\n",
        "X_test_raw.info()"
      ]
    },
    {
      "cell_type": "markdown",
      "metadata": {
        "id": "qZw8-_9YiajY"
      },
      "source": [
        "There are 800 entries and 11 columns in total. One column is devoted to the label and one column is for ordering. Therefore there are 9 features in this dataset.\n",
        "\n",
        "One feature (**ocean_proximity**) is categorical encoded as strings. It must be changed to integer or perform encoding.\n",
        "\n",
        "Most of the features are non-null and the total_bedrooms is the only exception. To address this issue I will use mean value of total_bedrooms and assign it to the empty fields\n",
        "\n",
        "Data also has to be normalised excluding categorical values and labels"
      ]
    },
    {
      "cell_type": "markdown",
      "metadata": {
        "id": "1i1DR_-z7tEl"
      },
      "source": [
        "#### Evaluate data column separately"
      ]
    },
    {
      "cell_type": "markdown",
      "metadata": {
        "id": "xz7CeqoG76fp"
      },
      "source": [
        "##### Longitude (numerical)"
      ]
    },
    {
      "cell_type": "code",
      "execution_count": null,
      "metadata": {
        "id": "NlK558AA8xeD"
      },
      "outputs": [],
      "source": [
        "show_numerical_stats(X_train_raw, \"longitude\")"
      ]
    },
    {
      "cell_type": "markdown",
      "metadata": {
        "id": "A6L23-Xj9h13"
      },
      "source": [
        "##### Latitude (Numerical)"
      ]
    },
    {
      "cell_type": "code",
      "execution_count": null,
      "metadata": {
        "id": "BM9X8lMS-SbH"
      },
      "outputs": [],
      "source": [
        "show_numerical_stats(X_train_raw, \"latitude\")"
      ]
    },
    {
      "cell_type": "markdown",
      "metadata": {
        "id": "02d6pAYF-b_G"
      },
      "source": [
        "##### Housing median age (numerical)"
      ]
    },
    {
      "cell_type": "code",
      "execution_count": null,
      "metadata": {
        "id": "sxIK_jSq-ufk"
      },
      "outputs": [],
      "source": [
        "show_numerical_stats(X_train_raw, \"housing_median_age\")"
      ]
    },
    {
      "cell_type": "markdown",
      "metadata": {
        "id": "NHRp0b2o_BGe"
      },
      "source": [
        "##### Total rooms (numerical)"
      ]
    },
    {
      "cell_type": "code",
      "execution_count": null,
      "metadata": {
        "id": "LlfhOS5c_MIt"
      },
      "outputs": [],
      "source": [
        "show_numerical_stats(X_train_raw, \"total_rooms\")"
      ]
    },
    {
      "cell_type": "markdown",
      "metadata": {
        "id": "zZLNG3SKEPm4"
      },
      "source": [
        "This column has a lot of outliers on the right side. "
      ]
    },
    {
      "cell_type": "markdown",
      "metadata": {
        "id": "EAv5aWGuElLu"
      },
      "source": [
        "##### Total bedrooms (numerical)"
      ]
    },
    {
      "cell_type": "code",
      "execution_count": null,
      "metadata": {
        "id": "L5jttXl0EoI1"
      },
      "outputs": [],
      "source": [
        "show_numerical_stats(X_train_raw, \"total_bedrooms\")"
      ]
    },
    {
      "cell_type": "markdown",
      "metadata": {
        "id": "KJM2WpENE-KH"
      },
      "source": [
        "##### Population (numerical)"
      ]
    },
    {
      "cell_type": "code",
      "execution_count": null,
      "metadata": {
        "id": "bI93tOUUFDpe"
      },
      "outputs": [],
      "source": [
        "show_numerical_stats(X_train_raw, \"population\")"
      ]
    },
    {
      "cell_type": "markdown",
      "metadata": {
        "id": "gZSy2iu-FTVL"
      },
      "source": [
        "There are a outliers in case of populations too!"
      ]
    },
    {
      "cell_type": "markdown",
      "metadata": {
        "id": "LvIZvY4IFYH9"
      },
      "source": [
        "##### Households"
      ]
    },
    {
      "cell_type": "code",
      "execution_count": null,
      "metadata": {
        "id": "QwYDXUE4Fan5"
      },
      "outputs": [],
      "source": [
        "show_numerical_stats(X_train_raw, \"households\")"
      ]
    },
    {
      "cell_type": "markdown",
      "metadata": {
        "id": "v8v8xm21F08X"
      },
      "source": [
        "##### median_income (numerical)"
      ]
    },
    {
      "cell_type": "code",
      "execution_count": null,
      "metadata": {
        "id": "mCGRqbXrF7ng"
      },
      "outputs": [],
      "source": [
        "show_numerical_stats(X_train_raw, \"median_income\")"
      ]
    },
    {
      "cell_type": "markdown",
      "metadata": {
        "id": "56xq5TAWGIlY"
      },
      "source": [
        "##### Ocean proximity (Categorical Value)"
      ]
    },
    {
      "cell_type": "code",
      "execution_count": null,
      "metadata": {
        "id": "-qtmZoi4GOoP"
      },
      "outputs": [],
      "source": [
        "print(\"Unique values: \", X_train_raw[\"ocean_proximity\"].unique())"
      ]
    },
    {
      "cell_type": "markdown",
      "metadata": {
        "id": "Cd2wzqtVcVzG"
      },
      "source": [
        "#### Analysis of target values"
      ]
    },
    {
      "cell_type": "code",
      "execution_count": null,
      "metadata": {
        "id": "26ZLDDYsd0cC"
      },
      "outputs": [],
      "source": [
        "# Create a histogram and boxplot for y_train data\n",
        "show_target_analysis(y_train)"
      ]
    },
    {
      "cell_type": "code",
      "execution_count": null,
      "metadata": {
        "id": "IBMZiQIvlU-L"
      },
      "outputs": [],
      "source": [
        "# Visualise X training data without outliers\n",
        "show_target_analysis(y_train.drop(y_train.index[y_train > 450000], axis=0))"
      ]
    },
    {
      "cell_type": "code",
      "execution_count": null,
      "metadata": {
        "id": "BLjBqVnTmUSd"
      },
      "outputs": [],
      "source": [
        "show_target_density(y_train)\n",
        "show_target_density(y_train_without_outliers)"
      ]
    },
    {
      "cell_type": "markdown",
      "metadata": {
        "id": "31wTRyNWJoOE"
      },
      "source": [
        "#### Variance and Corellation\n",
        "Now I will evaulate the features. Perhaps there are some redundant features that can be removed."
      ]
    },
    {
      "cell_type": "code",
      "execution_count": 71,
      "metadata": {
        "id": "bP4haH_sKSfJ",
        "colab": {
          "base_uri": "https://localhost:8080/"
        },
        "outputId": "2cc76822-aac8-4d22-b08a-19e244fefdcf"
      },
      "outputs": [
        {
          "output_type": "stream",
          "name": "stderr",
          "text": [
            "<ipython-input-71-8eb5d6a233c4>:1: FutureWarning: Dropping of nuisance columns in DataFrame reductions (with 'numeric_only=None') is deprecated; in a future version this will raise TypeError.  Select only valid columns before calling the reduction.\n",
            "  X_train_raw.var()\n"
          ]
        },
        {
          "output_type": "execute_result",
          "data": {
            "text/plain": [
              "longitude             3.505214e+00\n",
              "latitude              4.184249e+00\n",
              "housing_median_age    1.558077e+02\n",
              "total_rooms           5.134004e+06\n",
              "total_bedrooms        1.945108e+05\n",
              "population            1.300433e+06\n",
              "households            1.562527e+05\n",
              "median_income         3.627552e+00\n",
              "dtype: float64"
            ]
          },
          "metadata": {},
          "execution_count": 71
        }
      ],
      "source": [
        "X_train_raw.var()"
      ]
    },
    {
      "cell_type": "code",
      "execution_count": 68,
      "metadata": {
        "id": "xhlhJt4AMDSh",
        "colab": {
          "base_uri": "https://localhost:8080/",
          "height": 800
        },
        "outputId": "09e94eb3-3910-49c0-f890-0329cbcb2c83"
      },
      "outputs": [
        {
          "output_type": "display_data",
          "data": {
            "text/plain": [
              "<Figure size 864x864 with 2 Axes>"
            ],
            "image/png": "[encoded data removed]"
          },
          "metadata": {
            "needs_background": "light"
          }
        }
      ],
      "source": [
        "fig, ax = plt.subplots(figsize=(12, 12))\n",
        "sn.heatmap(X_train_raw.corr(), ax=ax)\n",
        "plt.show() "
      ]
    },
    {
      "cell_type": "code",
      "execution_count": 70,
      "metadata": {
        "id": "cIaLLluxN-N3",
        "colab": {
          "base_uri": "https://localhost:8080/"
        },
        "outputId": "70d426ad-38e1-466c-be66-ee0585348754"
      },
      "outputs": [
        {
          "output_type": "stream",
          "name": "stdout",
          "text": [
            "longitude: 0.0001\n",
            "latitude: 0.1706\n",
            "housing_median_age: 0.1350\n",
            "total_rooms: 0.0888\n",
            "total_bedrooms: 0.0109\n",
            "population: 0.0469\n",
            "households: 0.0335\n",
            "median_income: 0.6505\n"
          ]
        }
      ],
      "source": [
        "# Display correlation between every feature and target\n",
        "for feature in X_train_raw.select_dtypes(include=np.number):\n",
        "  print('{}: {:.4f}'.format(\n",
        "      feature, \n",
        "      abs(y_train.corr(X_train_raw[feature]))\n",
        "  ))"
      ]
    },
    {
      "cell_type": "markdown",
      "metadata": {
        "id": "-YqDdhAaHg2x"
      },
      "source": [
        "After evaluating correlation between particular features, I decided to remove total_bedrooms feature as its corellation to the target value is smaller than corellation between target value and total_rooms. At the same time correlation between total_rooms and total_bedrooms is high. So total_rooms represents total_bedrooms."
      ]
    },
    {
      "cell_type": "markdown",
      "metadata": {
        "id": "9Zm6ksUDxgbf"
      },
      "source": [
        "### Data Pre-processing"
      ]
    },
    {
      "cell_type": "code",
      "execution_count": 69,
      "metadata": {
        "id": "tDBXyRNAg3QQ"
      },
      "outputs": [],
      "source": [
        "X_train_without_outliers = X_train_raw.drop(X_train_raw.index[y_train > 500000], axis=0)\n",
        "y_train_without_outliers = y_train.drop(y_train.index[y_train > 500000], axis=0)"
      ]
    },
    {
      "cell_type": "code",
      "execution_count": 72,
      "metadata": {
        "id": "Nk0O7I_ro_fj"
      },
      "outputs": [],
      "source": [
        "features_to_drop = [\"total_rooms\"]\n",
        "\n",
        "X_train, X_test = preprocess_data(X_train_raw, X_test_raw, drop_cols=features_to_drop)\n",
        "X_train_without_outliers, X_test_without_outliers = preprocess_data(X_train_without_outliers, X_test_raw, drop_cols=features_to_drop)"
      ]
    },
    {
      "cell_type": "markdown",
      "metadata": {
        "id": "cM6CbGN_O1Gg"
      },
      "source": [
        "### Fitting the model\n",
        "\n",
        "As the baseline model I am going to use:\n",
        "- Linear Regression\n",
        "- SVM\n",
        "\n",
        "And as a main model I am going to use **RidgeCV**."
      ]
    },
    {
      "cell_type": "markdown",
      "metadata": {
        "id": "F3OPoy5kvOvr"
      },
      "source": [
        "#### Linear Regression"
      ]
    },
    {
      "cell_type": "markdown",
      "metadata": {
        "id": "cOnpQisFR7jz"
      },
      "source": [
        "##### Linear Regression With Outliers"
      ]
    },
    {
      "cell_type": "code",
      "execution_count": 73,
      "metadata": {
        "id": "odWNHP7KO7pw",
        "colab": {
          "base_uri": "https://localhost:8080/"
        },
        "outputId": "5724bc13-9514-4b7d-cdbd-af1c8fced79f"
      },
      "outputs": [
        {
          "output_type": "stream",
          "name": "stderr",
          "text": [
            "/usr/local/lib/python3.9/dist-packages/sklearn/preprocessing/_data.py:2627: UserWarning: n_quantiles (900) is greater than the total number of samples (800). n_quantiles is set to n_samples.\n",
            "  warnings.warn(\n"
          ]
        }
      ],
      "source": [
        "linear_regression_pure = LinearRegression()\n",
        "linear_regression_pure.fit(X_train, y_train)\n",
        "\n",
        "linear_regression_transformed = TransformedTargetRegressor(\n",
        "    regressor=LinearRegression(),\n",
        "    transformer=QuantileTransformer(n_quantiles=900, output_distribution=\"normal\")\n",
        ")\n",
        "linear_regression_transformed.fit(X_train, y_train)\n",
        "\n",
        "y_train_pred = linear_regression_pure.predict(X_train)\n",
        "y_test_pred = linear_regression_pure.predict(X_test)\n",
        "\n",
        "y_train_pred_with_trans_target = linear_regression_transformed.predict(X_train)\n",
        "y_test_pred_with_trans_target = linear_regression_transformed.predict(X_test)"
      ]
    },
    {
      "cell_type": "code",
      "execution_count": 74,
      "metadata": {
        "id": "VCgExL9scZ6A",
        "colab": {
          "base_uri": "https://localhost:8080/",
          "height": 484
        },
        "outputId": "9b7da175-f0d0-426b-d6d2-a729fd0df021"
      },
      "outputs": [
        {
          "output_type": "stream",
          "name": "stdout",
          "text": [
            "Evaluation of Linear Regression model: \n",
            "4644797466.411\n",
            "0.618\n",
            "Evaluation of Linear Regression model with transformed target: \n",
            "5171975116.182\n",
            "0.575\n"
          ]
        },
        {
          "output_type": "execute_result",
          "data": {
            "text/plain": [
              "Text(0.5, 1.0, 'Linear regression \\n with target transformation')"
            ]
          },
          "metadata": {},
          "execution_count": 74
        },
        {
          "output_type": "display_data",
          "data": {
            "text/plain": [
              "<Figure size 720x360 with 2 Axes>"
            ],
            "image/png": "[encoded data removed]"
          },
          "metadata": {
            "needs_background": "light"
          }
        }
      ],
      "source": [
        "train_score_pure = compute_score(y_train, y_train_pred)\n",
        "print('Evaluation of Linear Regression model: ')\n",
        "print(train_score_pure['MSE'] + '\\n' + train_score_pure['R2'])\n",
        "\n",
        "train_score_transformed = compute_score(y_train, y_train_pred_with_trans_target)\n",
        "print('Evaluation of Linear Regression model with transformed target: ')\n",
        "print(train_score_transformed['MSE'] + '\\n' + train_score_transformed['R2'])\n",
        "\n",
        "fig, axs = plt.subplots(1, 2, sharey=True, figsize=(10, 5))\n",
        "\n",
        "PredictionErrorDisplay.from_predictions(\n",
        "    y_test,\n",
        "    y_test_pred,\n",
        "    kind=\"actual_vs_predicted\",\n",
        "    ax=axs[0],\n",
        "    scatter_kwargs={\"alpha\": 0.5}\n",
        ")\n",
        "\n",
        "PredictionErrorDisplay.from_predictions(\n",
        "    y_test,\n",
        "    y_test_pred_with_trans_target,\n",
        "    kind=\"actual_vs_predicted\",\n",
        "    ax=axs[1],\n",
        "    scatter_kwargs={\"alpha\": 0.5}\n",
        ")\n",
        "\n",
        "# Add the score in the legend of each axis\n",
        "for ax, y_pred in zip(axs, [y_test_pred, y_test_pred_with_trans_target]):\n",
        "    for name, score in compute_score(y_test, y_pred).items():\n",
        "        ax.plot([], [], \" \", label=f\"{name}={score}\")\n",
        "    ax.legend(loc=\"upper left\")\n",
        "\n",
        "axs[0].set_title(\"Linear regression \\n without target transformation\")\n",
        "axs[1].set_title(\"Linear regression \\n with target transformation\")"
      ]
    },
    {
      "cell_type": "markdown",
      "metadata": {
        "id": "lS0NeO9eSA1V"
      },
      "source": [
        "##### Linear Regression without outliers"
      ]
    },
    {
      "cell_type": "code",
      "execution_count": 75,
      "metadata": {
        "id": "9lvfVmosSD7P",
        "colab": {
          "base_uri": "https://localhost:8080/"
        },
        "outputId": "5577521e-d3d1-4560-89fc-b2b04e7e5683"
      },
      "outputs": [
        {
          "output_type": "stream",
          "name": "stderr",
          "text": [
            "/usr/local/lib/python3.9/dist-packages/sklearn/preprocessing/_data.py:2627: UserWarning: n_quantiles (900) is greater than the total number of samples (768). n_quantiles is set to n_samples.\n",
            "  warnings.warn(\n"
          ]
        }
      ],
      "source": [
        "linear_regression_pure = LinearRegression()\n",
        "linear_regression_pure.fit(X_train_without_outliers, y_train_without_outliers)\n",
        "\n",
        "linear_regression_transformed = TransformedTargetRegressor(\n",
        "    regressor=LinearRegression(),\n",
        "    transformer=QuantileTransformer(n_quantiles=900, output_distribution=\"normal\")\n",
        ")\n",
        "linear_regression_transformed.fit(X_train_without_outliers, y_train_without_outliers)\n",
        "\n",
        "y_train_pred = linear_regression_pure.predict(X_train_without_outliers)\n",
        "y_test_pred = linear_regression_pure.predict(X_test)\n",
        "\n",
        "y_train_pred_with_trans_target = linear_regression_transformed.predict(X_train_without_outliers)\n",
        "y_test_pred_with_trans_target = linear_regression_transformed.predict(X_test)"
      ]
    },
    {
      "cell_type": "code",
      "execution_count": 76,
      "metadata": {
        "id": "eJLxB2WCSbER",
        "colab": {
          "base_uri": "https://localhost:8080/",
          "height": 484
        },
        "outputId": "42940267-4cbb-40a3-a679-162da798d73d"
      },
      "outputs": [
        {
          "output_type": "stream",
          "name": "stdout",
          "text": [
            "Evaluation of Linear Regression model: \n",
            "3860025432.988\n",
            "0.566\n",
            "Evaluation of Linear Regression model with transformed target: \n",
            "3903868215.633\n",
            "0.561\n"
          ]
        },
        {
          "output_type": "execute_result",
          "data": {
            "text/plain": [
              "Text(0.5, 1.0, 'Linear regression \\n with target transformation')"
            ]
          },
          "metadata": {},
          "execution_count": 76
        },
        {
          "output_type": "display_data",
          "data": {
            "text/plain": [
              "<Figure size 720x360 with 2 Axes>"
            ],
            "image/png": "[encoded data removed]"
          },
          "metadata": {
            "needs_background": "light"
          }
        }
      ],
      "source": [
        "train_score_pure = compute_score(y_train_without_outliers, y_train_pred)\n",
        "print('Evaluation of Linear Regression model: ')\n",
        "print(train_score_pure['MSE'] + '\\n' + train_score_pure['R2'])\n",
        "\n",
        "train_score_transformed = compute_score(y_train_without_outliers, y_train_pred_with_trans_target)\n",
        "print('Evaluation of Linear Regression model with transformed target: ')\n",
        "print(train_score_transformed['MSE'] + '\\n' + train_score_transformed['R2'])\n",
        "\n",
        "fig, axs = plt.subplots(1, 2, sharey=True, figsize=(10, 5))\n",
        "\n",
        "PredictionErrorDisplay.from_predictions(\n",
        "    y_test,\n",
        "    y_test_pred,\n",
        "    kind=\"actual_vs_predicted\",\n",
        "    ax=axs[0],\n",
        "    scatter_kwargs={\"alpha\": 0.5}\n",
        ")\n",
        "\n",
        "PredictionErrorDisplay.from_predictions(\n",
        "    y_test,\n",
        "    y_test_pred_with_trans_target,\n",
        "    kind=\"actual_vs_predicted\",\n",
        "    ax=axs[1],\n",
        "    scatter_kwargs={\"alpha\": 0.5}\n",
        ")\n",
        "\n",
        "# Add the score in the legend of each axis\n",
        "for ax, y_pred in zip(axs, [y_test_pred, y_test_pred_with_trans_target]):\n",
        "    for name, score in compute_score(y_test, y_pred).items():\n",
        "        ax.plot([], [], \" \", label=f\"{name}={score}\")\n",
        "    ax.legend(loc=\"upper left\")\n",
        "\n",
        "axs[0].set_title(\"Linear regression \\n without target transformation\")\n",
        "axs[1].set_title(\"Linear regression \\n with target transformation\")"
      ]
    },
    {
      "cell_type": "markdown",
      "metadata": {
        "id": "Umg9mXYIvV8G"
      },
      "source": [
        "#### Ridge Regressor"
      ]
    },
    {
      "cell_type": "markdown",
      "metadata": {
        "id": "Mf87yfzMTh5L"
      },
      "source": [
        "##### Ridge Regressor with outliers"
      ]
    },
    {
      "cell_type": "code",
      "execution_count": 77,
      "metadata": {
        "id": "_ZYDmUUjTk7T",
        "colab": {
          "base_uri": "https://localhost:8080/"
        },
        "outputId": "a49199ee-b13e-4112-800f-480f625a1d5a"
      },
      "outputs": [
        {
          "output_type": "stream",
          "name": "stderr",
          "text": [
            "/usr/local/lib/python3.9/dist-packages/sklearn/preprocessing/_data.py:2627: UserWarning: n_quantiles (900) is greater than the total number of samples (800). n_quantiles is set to n_samples.\n",
            "  warnings.warn(\n"
          ]
        }
      ],
      "source": [
        "ridge_pure = Ridge(alpha=1)\n",
        "ridge_pure.fit(X_train, y_train)\n",
        "\n",
        "ridge_transformed = TransformedTargetRegressor(\n",
        "    regressor=Ridge(alpha=1),\n",
        "    transformer=QuantileTransformer(n_quantiles=900, output_distribution=\"normal\")\n",
        ")\n",
        "ridge_transformed.fit(X_train, y_train)\n",
        "\n",
        "y_train_pred = ridge_pure.predict(X_train)\n",
        "y_test_pred = ridge_pure.predict(X_test)\n",
        "\n",
        "y_train_pred_with_trans_target = ridge_transformed.predict(X_train)\n",
        "y_test_pred_with_trans_target = ridge_transformed.predict(X_test)"
      ]
    },
    {
      "cell_type": "code",
      "execution_count": null,
      "metadata": {
        "id": "fixa9SS3T1Gf"
      },
      "outputs": [],
      "source": [
        "train_score_pure = compute_score(y_train, y_train_pred)\n",
        "print('Evaluation of pure RidgeCV model: ')\n",
        "print(train_score_pure['MSE'] + '\\n' + train_score_pure['R2'])\n",
        "\n",
        "train_score_transformed = compute_score(y_train, y_train_pred_with_trans_target)\n",
        "print('Evaluation of RidgeCV model with target value transformed: ')\n",
        "print(train_score_transformed['MSE'] + '\\n' + train_score_transformed['R2'])\n",
        "\n",
        "fig, axs = plt.subplots(1, 2, sharey=True, figsize=(10, 5))\n",
        "\n",
        "PredictionErrorDisplay.from_predictions(\n",
        "    y_test,\n",
        "    y_test_pred,\n",
        "    kind=\"actual_vs_predicted\",\n",
        "    ax=axs[0],\n",
        "    scatter_kwargs={\"alpha\": 0.5}\n",
        ")\n",
        "\n",
        "PredictionErrorDisplay.from_predictions(\n",
        "    y_test,\n",
        "    y_test_pred_with_trans_target,\n",
        "    kind=\"actual_vs_predicted\",\n",
        "    ax=axs[1],\n",
        "    scatter_kwargs={\"alpha\": 0.5}\n",
        ")\n",
        "\n",
        "# Add the score in the legend of each axis\n",
        "for ax, y_pred in zip(axs, [y_test_pred, y_test_pred_with_trans_target]):\n",
        "    for name, score in compute_score(y_test, y_pred).items():\n",
        "        ax.plot([], [], \" \", label=f\"{name}={score}\")\n",
        "    ax.legend(loc=\"upper left\")\n",
        "\n",
        "axs[0].set_title(\"Ridge \\n without target transformation\")\n",
        "axs[1].set_title(\"Ridge \\n with target transformation\")"
      ]
    },
    {
      "cell_type": "markdown",
      "metadata": {
        "id": "iQYHH3x6TexJ"
      },
      "source": [
        "##### Ridge Regressor without outliers"
      ]
    },
    {
      "cell_type": "code",
      "execution_count": 85,
      "metadata": {
        "id": "WzdLrdLTvckJ",
        "colab": {
          "base_uri": "https://localhost:8080/"
        },
        "outputId": "3ae71e42-3e14-458c-e1de-344d7e4a3731"
      },
      "outputs": [
        {
          "output_type": "stream",
          "name": "stderr",
          "text": [
            "/usr/local/lib/python3.9/dist-packages/sklearn/linear_model/_ridge.py:216: LinAlgWarning: Ill-conditioned matrix (rcond=5.92206e-17): result may not be accurate.\n",
            "  return linalg.solve(A, Xy, assume_a=\"pos\", overwrite_a=True).T\n",
            "/usr/local/lib/python3.9/dist-packages/sklearn/preprocessing/_data.py:2627: UserWarning: n_quantiles (900) is greater than the total number of samples (768). n_quantiles is set to n_samples.\n",
            "  warnings.warn(\n",
            "/usr/local/lib/python3.9/dist-packages/sklearn/linear_model/_ridge.py:216: LinAlgWarning: Ill-conditioned matrix (rcond=5.92206e-17): result may not be accurate.\n",
            "  return linalg.solve(A, Xy, assume_a=\"pos\", overwrite_a=True).T\n"
          ]
        }
      ],
      "source": [
        "ridge_pure = Ridge(alpha=0.0)\n",
        "ridge_pure.fit(X_train_without_outliers, y_train_without_outliers)\n",
        "\n",
        "ridge_transformed = TransformedTargetRegressor(\n",
        "    regressor=Ridge(alpha=0.0),\n",
        "    transformer=QuantileTransformer(n_quantiles=900, output_distribution=\"normal\")\n",
        ")\n",
        "ridge_transformed.fit(X_train_without_outliers, y_train_without_outliers)\n",
        "\n",
        "y_train_pred = ridge_pure.predict(X_train_without_outliers)\n",
        "y_test_pred = ridge_pure.predict(X_test)\n",
        "\n",
        "y_train_pred_with_trans_target = ridge_transformed.predict(X_train_without_outliers)\n",
        "y_test_pred_with_trans_target = ridge_transformed.predict(X_test)"
      ]
    },
    {
      "cell_type": "code",
      "execution_count": 86,
      "metadata": {
        "id": "JJFWKgn47z2T",
        "colab": {
          "base_uri": "https://localhost:8080/",
          "height": 484
        },
        "outputId": "f28dd028-4196-4c78-9d2a-0a91007063cc"
      },
      "outputs": [
        {
          "output_type": "stream",
          "name": "stdout",
          "text": [
            "Evaluation of pure RidgeCV model: \n",
            "3860025432.988\n",
            "0.566\n",
            "Evaluation of RidgeCV model with target value transformed: \n",
            "3903868215.633\n",
            "0.561\n"
          ]
        },
        {
          "output_type": "execute_result",
          "data": {
            "text/plain": [
              "Text(0.5, 1.0, 'Ridge \\n with target transformation')"
            ]
          },
          "metadata": {},
          "execution_count": 86
        },
        {
          "output_type": "display_data",
          "data": {
            "text/plain": [
              "<Figure size 720x360 with 2 Axes>"
            ],
            "image/png": "[encoded data removed]"
          },
          "metadata": {
            "needs_background": "light"
          }
        }
      ],
      "source": [
        "train_score_pure = compute_score(y_train_without_outliers, y_train_pred)\n",
        "print('Evaluation of pure RidgeCV model: ')\n",
        "print(train_score_pure['MSE'] + '\\n' + train_score_pure['R2'])\n",
        "\n",
        "train_score_transformed = compute_score(y_train_without_outliers, y_train_pred_with_trans_target)\n",
        "print('Evaluation of RidgeCV model with target value transformed: ')\n",
        "print(train_score_transformed['MSE'] + '\\n' + train_score_transformed['R2'])\n",
        "\n",
        "fig, axs = plt.subplots(1, 2, sharey=True, figsize=(10, 5))\n",
        "\n",
        "PredictionErrorDisplay.from_predictions(\n",
        "    y_test,\n",
        "    y_test_pred,\n",
        "    kind=\"actual_vs_predicted\",\n",
        "    ax=axs[0],\n",
        "    scatter_kwargs={\"alpha\": 0.5}\n",
        ")\n",
        "\n",
        "PredictionErrorDisplay.from_predictions(\n",
        "    y_test,\n",
        "    y_test_pred_with_trans_target,\n",
        "    kind=\"actual_vs_predicted\",\n",
        "    ax=axs[1],\n",
        "    scatter_kwargs={\"alpha\": 0.5}\n",
        ")\n",
        "\n",
        "# Add the score in the legend of each axis\n",
        "for ax, y_pred in zip(axs, [y_test_pred, y_test_pred_with_trans_target]):\n",
        "    for name, score in compute_score(y_test, y_pred).items():\n",
        "        ax.plot([], [], \" \", label=f\"{name}={score}\")\n",
        "    ax.legend(loc=\"upper left\")\n",
        "\n",
        "axs[0].set_title(\"Ridge \\n without target transformation\")\n",
        "axs[1].set_title(\"Ridge \\n with target transformation\")"
      ]
    },
    {
      "cell_type": "markdown",
      "metadata": {
        "id": "k83-BSsKQ4P1"
      },
      "source": [
        "## Part two - Classification"
      ]
    },
    {
      "cell_type": "markdown",
      "source": [
        "### Helper functions"
      ],
      "metadata": {
        "id": "Lsi75r1dTqht"
      }
    },
    {
      "cell_type": "code",
      "execution_count": 3,
      "metadata": {
        "id": "haQGgQPzQ-8Z"
      },
      "outputs": [],
      "source": [
        "def load_data(file_name, drop_columns = None):\n",
        "  df = pd.read_csv(file_name)\n",
        "\n",
        "  features = [\"Pclass\", \"Name\", \"Sex\", \"Age\", \"SibSp\", \"Parch\", \"Ticket\", \"Fare\", \"Embarked\"]\n",
        "\n",
        "  if drop_columns is not None:\n",
        "    features = list(filter(lambda x: x in drop_columns, features))\n",
        "\n",
        "  X = df[features]\n",
        "  y = df[\"Target: Survived\"]\n",
        "\n",
        "  return X, y"
      ]
    },
    {
      "cell_type": "code",
      "source": [
        "def show_numerical_stats(df, feature_label):\n",
        "  series = X_train_raw[feature_label]\n",
        "\n",
        "  print(\"min value: \", series.min())\n",
        "  print(\"max value: \", series.max())\n",
        "  print(\"Numbrt of null entries: \", series.isnull().sum())\n",
        "\n",
        "  fig, axs = plt.subplots(nrows=1, ncols=2, figsize=(10, 5))\n",
        "\n",
        "  series.plot.hist(ax=axs[0], bins=50)\n",
        "  axs[0].set_title(f'Histogram of {feature_label}')\n",
        "\n",
        "  series.plot.box(ax=axs[1])\n",
        "  axs[1].set_title(f'Boxplot of {feature_label}')\n",
        "\n",
        "  plt.show()"
      ],
      "metadata": {
        "id": "MfguOInqYMc8"
      },
      "execution_count": 4,
      "outputs": []
    },
    {
      "cell_type": "markdown",
      "metadata": {
        "id": "vULF_mniR6sm"
      },
      "source": [
        "### Load the data"
      ]
    },
    {
      "cell_type": "code",
      "execution_count": 32,
      "metadata": {
        "colab": {
          "base_uri": "https://localhost:8080/"
        },
        "id": "8Xk-Ty0joY7A",
        "outputId": "c8ebf336-3f1c-4580-b4dd-b3e2bf1acba5"
      },
      "outputs": [
        {
          "output_type": "stream",
          "name": "stdout",
          "text": [
            "<class 'pandas.core.frame.DataFrame'>\n",
            "RangeIndex: 650 entries, 0 to 649\n",
            "Data columns (total 9 columns):\n",
            " #   Column    Non-Null Count  Dtype  \n",
            "---  ------    --------------  -----  \n",
            " 0   Pclass    650 non-null    int64  \n",
            " 1   Name      650 non-null    object \n",
            " 2   Sex       650 non-null    object \n",
            " 3   Age       514 non-null    float64\n",
            " 4   SibSp     650 non-null    int64  \n",
            " 5   Parch     650 non-null    int64  \n",
            " 6   Ticket    650 non-null    object \n",
            " 7   Fare      650 non-null    float64\n",
            " 8   Embarked  649 non-null    object \n",
            "dtypes: float64(2), int64(3), object(4)\n",
            "memory usage: 45.8+ KB\n",
            "<class 'pandas.core.frame.DataFrame'>\n",
            "RangeIndex: 241 entries, 0 to 240\n",
            "Data columns (total 9 columns):\n",
            " #   Column    Non-Null Count  Dtype  \n",
            "---  ------    --------------  -----  \n",
            " 0   Pclass    241 non-null    int64  \n",
            " 1   Name      241 non-null    object \n",
            " 2   Sex       241 non-null    object \n",
            " 3   Age       200 non-null    float64\n",
            " 4   SibSp     241 non-null    int64  \n",
            " 5   Parch     241 non-null    int64  \n",
            " 6   Ticket    241 non-null    object \n",
            " 7   Fare      241 non-null    float64\n",
            " 8   Embarked  240 non-null    object \n",
            "dtypes: float64(2), int64(3), object(4)\n",
            "memory usage: 17.1+ KB\n"
          ]
        }
      ],
      "source": [
        "# Load raw data\n",
        "X_train_raw, y_train = load_data(\"./Titanic_train.csv\")\n",
        "X_test_raw, y_test = load_data(\"./Titanic_test.csv\")\n",
        "\n",
        "X_train_raw.info()\n",
        "X_test_raw.info()"
      ]
    },
    {
      "cell_type": "markdown",
      "metadata": {
        "id": "dasvCc8mn9JB"
      },
      "source": [
        "### Analysis"
      ]
    },
    {
      "cell_type": "markdown",
      "metadata": {
        "id": "iuGeeWkFU5gk"
      },
      "source": [
        "#### Basic analysis\n",
        "\n",
        "There are 11 columns in which 1 column is only for the ordering purposes (PassengerId), and one column is the target value for each row (Target: Survived). Therefore, there are 9 features.\n",
        "\n",
        "**Age** column has 136 missing values, and **Embarked** has one missing value which must be imputed. \n",
        "\n",
        "Features description\n",
        "**Pclass** - Ticket class - Categorical: 1 = 1st class, 2 = 2nd class, 3 = 3rd class\n",
        "\n",
        "**Name** - Passanger's name - text data\n",
        "\n",
        "**Sex** - sex of the particular passanger - Categorical: male, female\n",
        "\n",
        "**Age** - age of a passanger - Continuous value\n",
        "\n",
        "**SibSp** - number of siblings / spouses aboard the Titanic\n",
        "\n",
        "**Parch** - Number of parent / children aboard the Titanic\n",
        "\n",
        "**Ticket** - Ticket number - String value\n",
        "\n",
        "**Fare** - Passenger fare - Continuous value\n",
        "\n",
        "**embarked** - Port of Embarkation - Categorical value: C = Cherbourg, Q=Queenstown, S=Southampton"
      ]
    },
    {
      "cell_type": "markdown",
      "metadata": {
        "id": "dR9JObp-Z5GB"
      },
      "source": [
        "#### Additional analysis\n",
        "Because Name, and Ticket are unique values for every passenger (sometimes names may occure more than once, but it must be a coincidence) they should not be taken into account as they don't correlate with the survival rate.\n",
        "\n",
        "Additional analysis is also performed by checking the variance and correlation between the features"
      ]
    },
    {
      "cell_type": "code",
      "execution_count": 33,
      "metadata": {
        "colab": {
          "base_uri": "https://localhost:8080/"
        },
        "id": "xvZbaNVNZ53s",
        "outputId": "39d327c1-f860-4b07-b842-ba3cb5b32f54"
      },
      "outputs": [
        {
          "output_type": "stream",
          "name": "stderr",
          "text": [
            "<ipython-input-33-8eb5d6a233c4>:1: FutureWarning: Dropping of nuisance columns in DataFrame reductions (with 'numeric_only=None') is deprecated; in a future version this will raise TypeError.  Select only valid columns before calling the reduction.\n",
            "  X_train_raw.var()\n"
          ]
        },
        {
          "output_type": "execute_result",
          "data": {
            "text/plain": [
              "Pclass       0.700839\n",
              "Age        214.309706\n",
              "SibSp        1.158222\n",
              "Parch        0.646554\n",
              "Fare      2032.913695\n",
              "dtype: float64"
            ]
          },
          "metadata": {},
          "execution_count": 33
        }
      ],
      "source": [
        "X_train_raw.var()"
      ]
    },
    {
      "cell_type": "code",
      "execution_count": 34,
      "metadata": {
        "colab": {
          "base_uri": "https://localhost:8080/",
          "height": 704
        },
        "id": "2rfYfkyQas5D",
        "outputId": "d3efb788-ce9c-4e5f-de29-48d846c17ce7"
      },
      "outputs": [
        {
          "output_type": "display_data",
          "data": {
            "text/plain": [
              "<Figure size 864x864 with 2 Axes>"
            ],
            "image/png": "[encoded data removed]"
          },
          "metadata": {
            "needs_background": "light"
          }
        }
      ],
      "source": [
        "fig, ax = plt.subplots(figsize=(12, 12))\n",
        "sn.heatmap(X_train_raw.corr(), ax=ax)\n",
        "plt.show()"
      ]
    },
    {
      "cell_type": "markdown",
      "metadata": {
        "id": "DvzRGro3cT2i"
      },
      "source": [
        "Drop candidates:\n",
        "- PassengerId\n",
        "- Name\n",
        "- Ticket"
      ]
    },
    {
      "cell_type": "markdown",
      "source": [
        "#### Target Value Analysis"
      ],
      "metadata": {
        "id": "rHcpH2Hjsmg7"
      }
    },
    {
      "cell_type": "code",
      "source": [
        "print(\"unique values: \", y_train.unique())"
      ],
      "metadata": {
        "colab": {
          "base_uri": "https://localhost:8080/"
        },
        "id": "gVrmPKyYsp2-",
        "outputId": "6a198fa6-82fd-4395-96ac-b5e847f20974"
      },
      "execution_count": 54,
      "outputs": [
        {
          "output_type": "stream",
          "name": "stdout",
          "text": [
            "unique values:  [0 1]\n"
          ]
        }
      ]
    },
    {
      "cell_type": "markdown",
      "metadata": {
        "id": "bBo5NQh8eeJu"
      },
      "source": [
        "#### Analysis of each feature separately"
      ]
    },
    {
      "cell_type": "code",
      "source": [
        "def show_categorical_analysis(df, feature, bins=10):\n",
        "  print(\"Unique values: \", df[feature].unique())\n",
        "  print(\"Number of null values: \", df[feature].isnull().sum())\n",
        "\n",
        "  # plot the histogram with the mode value marked\n",
        "  df[feature].plot.hist(bins=bins)\n",
        "  plt.show()"
      ],
      "metadata": {
        "id": "3_EbG9zKWg1l"
      },
      "execution_count": 7,
      "outputs": []
    },
    {
      "cell_type": "markdown",
      "metadata": {
        "id": "Op64CFCxh6fp"
      },
      "source": [
        "##### Check Pclass column (Categorical)"
      ]
    },
    {
      "cell_type": "code",
      "execution_count": 8,
      "metadata": {
        "colab": {
          "base_uri": "https://localhost:8080/",
          "height": 299
        },
        "id": "-j4aJFwHeH7B",
        "outputId": "8e5206d3-2bb8-4141-994c-e749252a975e"
      },
      "outputs": [
        {
          "output_type": "stream",
          "name": "stdout",
          "text": [
            "Unique values:  [3 1 2]\n",
            "Number of null values:  0\n"
          ]
        },
        {
          "output_type": "display_data",
          "data": {
            "text/plain": [
              "<Figure size 432x288 with 1 Axes>"
            ],
            "image/png": "[encoded data removed]"
          },
          "metadata": {
            "needs_background": "light"
          }
        }
      ],
      "source": [
        "show_categorical_analysis(X_train_raw, \"Pclass\", bins=3)"
      ]
    },
    {
      "cell_type": "markdown",
      "metadata": {
        "id": "sRSmddhpi5YU"
      },
      "source": [
        "##### Check Name (Categorical)"
      ]
    },
    {
      "cell_type": "code",
      "execution_count": 9,
      "metadata": {
        "colab": {
          "base_uri": "https://localhost:8080/"
        },
        "id": "1nY8Th1sh-xR",
        "outputId": "ff2fd8aa-3bc4-49d5-8179-a89ddb94c589"
      },
      "outputs": [
        {
          "output_type": "stream",
          "name": "stdout",
          "text": [
            "650\n",
            "0\n"
          ]
        }
      ],
      "source": [
        "name_series = X_train_raw[\"Name\"]\n",
        "print(len(name_series.unique()))\n",
        "print(name_series.isnull().sum())"
      ]
    },
    {
      "cell_type": "markdown",
      "metadata": {
        "id": "WAmcgDVCjnOX"
      },
      "source": [
        "There are 650 unique names"
      ]
    },
    {
      "cell_type": "markdown",
      "metadata": {
        "id": "sbrj-BlvjGN9"
      },
      "source": [
        "##### Check Sex (Categorical)"
      ]
    },
    {
      "cell_type": "code",
      "execution_count": 10,
      "metadata": {
        "colab": {
          "base_uri": "https://localhost:8080/"
        },
        "id": "ZgkKPE5GjDcu",
        "outputId": "d9a9bf2b-d7b7-4b89-8e6e-2b5ca9c76200"
      },
      "outputs": [
        {
          "output_type": "stream",
          "name": "stdout",
          "text": [
            "['male' 'female']\n",
            "0\n",
            "0    male\n",
            "dtype: object\n"
          ]
        }
      ],
      "source": [
        "sex_series = X_train_raw[\"Sex\"]\n",
        "print(sex_series.unique())\n",
        "print(sex_series.isnull().sum())\n",
        "\n",
        "print(sex_series.mode())"
      ]
    },
    {
      "cell_type": "markdown",
      "metadata": {
        "id": "dLN4g6nTj5kP"
      },
      "source": [
        "##### Check Age (Numerical)"
      ]
    },
    {
      "cell_type": "code",
      "execution_count": null,
      "metadata": {
        "colab": {
          "base_uri": "https://localhost:8080/",
          "height": 608
        },
        "id": "Y3VfFZc4jMq3",
        "outputId": "a1b46495-2c0f-435f-a38a-53954d04a90b"
      },
      "outputs": [
        {
          "output_type": "stream",
          "name": "stdout",
          "text": [
            "min value:  0.75\n",
            "max value:  82.69879743589743\n",
            "Numbrt of null entries:  0\n"
          ]
        },
        {
          "output_type": "display_data",
          "data": {
            "text/plain": [
              "<Figure size 720x360 with 2 Axes>"
            ],
            "image/png": "[encoded data removed]"
          },
          "metadata": {
            "needs_background": "light"
          }
        },
        {
          "output_type": "display_data",
          "data": {
            "text/plain": [
              "0      2\n",
              "1      2\n",
              "2      2\n",
              "3      2\n",
              "4      2\n",
              "      ..\n",
              "645    2\n",
              "646    2\n",
              "647    3\n",
              "648    2\n",
              "649    2\n",
              "Name: Age, Length: 650, dtype: category\n",
              "Categories (3, int64): [1 < 2 < 3]"
            ]
          },
          "metadata": {}
        }
      ],
      "source": [
        "show_numerical_stats(X_train_raw, \"Age\")\n",
        "\n",
        "interval_age = pd.cut(X_train_raw[\"Age\"], bins=[0, 18, 50, 90], labels=[1, 2, 3])\n",
        "\n",
        "display(interval_age)"
      ]
    },
    {
      "cell_type": "markdown",
      "metadata": {
        "id": "nFF_O_hgkqWG"
      },
      "source": [
        "Maybe it is worth to create the age groups?"
      ]
    },
    {
      "cell_type": "markdown",
      "metadata": {
        "id": "icopEXIOkxbW"
      },
      "source": [
        "##### Check SibSp (Numerical)"
      ]
    },
    {
      "cell_type": "code",
      "execution_count": null,
      "metadata": {
        "colab": {
          "base_uri": "https://localhost:8080/",
          "height": 387
        },
        "id": "ZpCGNm_Fkbtn",
        "outputId": "5cdd86b5-480c-4fd8-e031-a6ac672e98a1"
      },
      "outputs": [
        {
          "output_type": "stream",
          "name": "stdout",
          "text": [
            "min value:  0\n",
            "max value:  8\n",
            "Numbrt of null entries:  0\n"
          ]
        },
        {
          "output_type": "display_data",
          "data": {
            "text/plain": [
              "<Figure size 720x360 with 2 Axes>"
            ],
            "image/png": "[encoded data removed]"
          },
          "metadata": {
            "needs_background": "light"
          }
        }
      ],
      "source": [
        "show_numerical_stats(X_train_raw, \"SibSp\")"
      ]
    },
    {
      "cell_type": "markdown",
      "metadata": {
        "id": "brEYFdQtlCwk"
      },
      "source": [
        "##### Check Parch (Numerical)"
      ]
    },
    {
      "cell_type": "code",
      "execution_count": null,
      "metadata": {
        "colab": {
          "base_uri": "https://localhost:8080/",
          "height": 387
        },
        "id": "aMnEotpbk-O0",
        "outputId": "ed9c7ec9-1493-4272-8ac6-459dc0be7663"
      },
      "outputs": [
        {
          "output_type": "stream",
          "name": "stdout",
          "text": [
            "min value:  0\n",
            "max value:  5\n",
            "Numbrt of null entries:  0\n"
          ]
        },
        {
          "output_type": "display_data",
          "data": {
            "text/plain": [
              "<Figure size 720x360 with 2 Axes>"
            ],
            "image/png": "[encoded data removed]"
          },
          "metadata": {
            "needs_background": "light"
          }
        }
      ],
      "source": [
        "show_numerical_stats(X_train_raw, \"Parch\")"
      ]
    },
    {
      "cell_type": "markdown",
      "metadata": {
        "id": "TLP8dfKGlWim"
      },
      "source": [
        "##### Check Ticket (Categorical)"
      ]
    },
    {
      "cell_type": "code",
      "execution_count": null,
      "metadata": {
        "colab": {
          "base_uri": "https://localhost:8080/"
        },
        "id": "g3to9IIQlNJp",
        "outputId": "92ba9c96-e2c1-4ba5-c6c3-7dff72a65187"
      },
      "outputs": [
        {
          "output_type": "stream",
          "name": "stdout",
          "text": [
            "524\n",
            "0\n"
          ]
        }
      ],
      "source": [
        "ticket_series = X_train_raw[\"Ticket\"]\n",
        "print(len(ticket_series.unique()))\n",
        "print(ticket_series.isnull().sum())"
      ]
    },
    {
      "cell_type": "markdown",
      "metadata": {
        "id": "NtJ-8CbdlvjQ"
      },
      "source": [
        "##### Check Fare (Numerical)"
      ]
    },
    {
      "cell_type": "code",
      "execution_count": null,
      "metadata": {
        "colab": {
          "base_uri": "https://localhost:8080/",
          "height": 387
        },
        "id": "v1A6npAQliLq",
        "outputId": "4b5e26f8-5ac7-4d65-c7de-51ce3cd3abe4"
      },
      "outputs": [
        {
          "output_type": "stream",
          "name": "stdout",
          "text": [
            "min value:  0.0\n",
            "max value:  512.3292\n",
            "Numbrt of null entries:  0\n"
          ]
        },
        {
          "output_type": "display_data",
          "data": {
            "text/plain": [
              "<Figure size 720x360 with 2 Axes>"
            ],
            "image/png": "[encoded data removed]"
          },
          "metadata": {
            "needs_background": "light"
          }
        }
      ],
      "source": [
        "show_numerical_stats(X_train_raw, \"Fare\")"
      ]
    },
    {
      "cell_type": "markdown",
      "metadata": {
        "id": "4N6kA3lqmE6A"
      },
      "source": [
        "There are entries with Fare equal to 0, which means that those passengers did not pay for the ticket. There are also outliers including one with the vlaue of 512."
      ]
    },
    {
      "cell_type": "code",
      "execution_count": null,
      "metadata": {
        "colab": {
          "base_uri": "https://localhost:8080/",
          "height": 980
        },
        "id": "hdfqyon4p5eE",
        "outputId": "5ecdc669-36a2-4156-e8d1-c116f19f7036"
      },
      "outputs": [
        {
          "data": {
            "text/html": [
              "\n",
              "  <div id=\"df-52bf2b72-360c-4de3-8795-fa217190fd0e\">\n",
              "    <div class=\"colab-df-container\">\n",
              "      <div>\n",
              "<style scoped>\n",
              "    .dataframe tbody tr th:only-of-type {\n",
              "        vertical-align: middle;\n",
              "    }\n",
              "\n",
              "    .dataframe tbody tr th {\n",
              "        vertical-align: top;\n",
              "    }\n",
              "\n",
              "    .dataframe thead th {\n",
              "        text-align: right;\n",
              "    }\n",
              "</style>\n",
              "<table border=\"1\" class=\"dataframe\">\n",
              "  <thead>\n",
              "    <tr style=\"text-align: right;\">\n",
              "      <th></th>\n",
              "      <th>Pclass</th>\n",
              "      <th>Name</th>\n",
              "      <th>Sex</th>\n",
              "      <th>Age</th>\n",
              "      <th>SibSp</th>\n",
              "      <th>Parch</th>\n",
              "      <th>Ticket</th>\n",
              "      <th>Fare</th>\n",
              "      <th>Embarked</th>\n",
              "    </tr>\n",
              "  </thead>\n",
              "  <tbody>\n",
              "    <tr>\n",
              "      <th>179</th>\n",
              "      <td>3</td>\n",
              "      <td>Leonard, Mr. Lionel</td>\n",
              "      <td>male</td>\n",
              "      <td>36.0</td>\n",
              "      <td>0</td>\n",
              "      <td>0</td>\n",
              "      <td>LINE</td>\n",
              "      <td>0.0</td>\n",
              "      <td>S</td>\n",
              "    </tr>\n",
              "    <tr>\n",
              "      <th>263</th>\n",
              "      <td>1</td>\n",
              "      <td>Harrison, Mr. William</td>\n",
              "      <td>male</td>\n",
              "      <td>40.0</td>\n",
              "      <td>0</td>\n",
              "      <td>0</td>\n",
              "      <td>112059</td>\n",
              "      <td>0.0</td>\n",
              "      <td>S</td>\n",
              "    </tr>\n",
              "    <tr>\n",
              "      <th>271</th>\n",
              "      <td>3</td>\n",
              "      <td>Tornquist, Mr. William Henry</td>\n",
              "      <td>male</td>\n",
              "      <td>25.0</td>\n",
              "      <td>0</td>\n",
              "      <td>0</td>\n",
              "      <td>LINE</td>\n",
              "      <td>0.0</td>\n",
              "      <td>S</td>\n",
              "    </tr>\n",
              "    <tr>\n",
              "      <th>277</th>\n",
              "      <td>2</td>\n",
              "      <td>Parkes, Mr. Francis \"Frank\"</td>\n",
              "      <td>male</td>\n",
              "      <td>NaN</td>\n",
              "      <td>0</td>\n",
              "      <td>0</td>\n",
              "      <td>239853</td>\n",
              "      <td>0.0</td>\n",
              "      <td>S</td>\n",
              "    </tr>\n",
              "    <tr>\n",
              "      <th>302</th>\n",
              "      <td>3</td>\n",
              "      <td>Johnson, Mr. William Cahoone Jr</td>\n",
              "      <td>male</td>\n",
              "      <td>19.0</td>\n",
              "      <td>0</td>\n",
              "      <td>0</td>\n",
              "      <td>LINE</td>\n",
              "      <td>0.0</td>\n",
              "      <td>S</td>\n",
              "    </tr>\n",
              "    <tr>\n",
              "      <th>413</th>\n",
              "      <td>2</td>\n",
              "      <td>Cunningham, Mr. Alfred Fleming</td>\n",
              "      <td>male</td>\n",
              "      <td>NaN</td>\n",
              "      <td>0</td>\n",
              "      <td>0</td>\n",
              "      <td>239853</td>\n",
              "      <td>0.0</td>\n",
              "      <td>S</td>\n",
              "    </tr>\n",
              "    <tr>\n",
              "      <th>466</th>\n",
              "      <td>2</td>\n",
              "      <td>Campbell, Mr. William</td>\n",
              "      <td>male</td>\n",
              "      <td>NaN</td>\n",
              "      <td>0</td>\n",
              "      <td>0</td>\n",
              "      <td>239853</td>\n",
              "      <td>0.0</td>\n",
              "      <td>S</td>\n",
              "    </tr>\n",
              "    <tr>\n",
              "      <th>481</th>\n",
              "      <td>2</td>\n",
              "      <td>Frost, Mr. Anthony Wood \"Archie\"</td>\n",
              "      <td>male</td>\n",
              "      <td>NaN</td>\n",
              "      <td>0</td>\n",
              "      <td>0</td>\n",
              "      <td>239854</td>\n",
              "      <td>0.0</td>\n",
              "      <td>S</td>\n",
              "    </tr>\n",
              "    <tr>\n",
              "      <th>597</th>\n",
              "      <td>3</td>\n",
              "      <td>Johnson, Mr. Alfred</td>\n",
              "      <td>male</td>\n",
              "      <td>49.0</td>\n",
              "      <td>0</td>\n",
              "      <td>0</td>\n",
              "      <td>LINE</td>\n",
              "      <td>0.0</td>\n",
              "      <td>S</td>\n",
              "    </tr>\n",
              "    <tr>\n",
              "      <th>633</th>\n",
              "      <td>1</td>\n",
              "      <td>Parr, Mr. William Henry Marsh</td>\n",
              "      <td>male</td>\n",
              "      <td>NaN</td>\n",
              "      <td>0</td>\n",
              "      <td>0</td>\n",
              "      <td>112052</td>\n",
              "      <td>0.0</td>\n",
              "      <td>S</td>\n",
              "    </tr>\n",
              "  </tbody>\n",
              "</table>\n",
              "</div>\n",
              "      <button class=\"colab-df-convert\" onclick=\"convertToInteractive('df-52bf2b72-360c-4de3-8795-fa217190fd0e')\"\n",
              "              title=\"Convert this dataframe to an interactive table.\"\n",
              "              style=\"display:none;\">\n",
              "        \n",
              "  <svg xmlns=\"http://www.w3.org/2000/svg\" height=\"24px\"viewBox=\"0 0 24 24\"\n",
              "       width=\"24px\">\n",
              "    <path d=\"M0 0h24v24H0V0z\" fill=\"none\"/>\n",
              "    <path d=\"M18.56 5.44l.94 2.06.94-2.06 2.06-.94-2.06-.94-.94-2.06-.94 2.06-2.06.94zm-11 1L8.5 8.5l.94-2.06 2.06-.94-2.06-.94L8.5 2.5l-.94 2.06-2.06.94zm10 10l.94 2.06.94-2.06 2.06-.94-2.06-.94-.94-2.06-.94 2.06-2.06.94z\"/><path d=\"M17.41 7.96l-1.37-1.37c-.4-.4-.92-.59-1.43-.59-.52 0-1.04.2-1.43.59L10.3 9.45l-7.72 7.72c-.78.78-.78 2.05 0 2.83L4 21.41c.39.39.9.59 1.41.59.51 0 1.02-.2 1.41-.59l7.78-7.78 2.81-2.81c.8-.78.8-2.07 0-2.86zM5.41 20L4 18.59l7.72-7.72 1.47 1.35L5.41 20z\"/>\n",
              "  </svg>\n",
              "      </button>\n",
              "      \n",
              "  <style>\n",
              "    .colab-df-container {\n",
              "      display:flex;\n",
              "      flex-wrap:wrap;\n",
              "      gap: 12px;\n",
              "    }\n",
              "\n",
              "    .colab-df-convert {\n",
              "      background-color: #E8F0FE;\n",
              "      border: none;\n",
              "      border-radius: 50%;\n",
              "      cursor: pointer;\n",
              "      display: none;\n",
              "      fill: #1967D2;\n",
              "      height: 32px;\n",
              "      padding: 0 0 0 0;\n",
              "      width: 32px;\n",
              "    }\n",
              "\n",
              "    .colab-df-convert:hover {\n",
              "      background-color: #E2EBFA;\n",
              "      box-shadow: 0px 1px 2px rgba(60, 64, 67, 0.3), 0px 1px 3px 1px rgba(60, 64, 67, 0.15);\n",
              "      fill: #174EA6;\n",
              "    }\n",
              "\n",
              "    [theme=dark] .colab-df-convert {\n",
              "      background-color: #3B4455;\n",
              "      fill: #D2E3FC;\n",
              "    }\n",
              "\n",
              "    [theme=dark] .colab-df-convert:hover {\n",
              "      background-color: #434B5C;\n",
              "      box-shadow: 0px 1px 3px 1px rgba(0, 0, 0, 0.15);\n",
              "      filter: drop-shadow(0px 1px 2px rgba(0, 0, 0, 0.3));\n",
              "      fill: #FFFFFF;\n",
              "    }\n",
              "  </style>\n",
              "\n",
              "      <script>\n",
              "        const buttonEl =\n",
              "          document.querySelector('#df-52bf2b72-360c-4de3-8795-fa217190fd0e button.colab-df-convert');\n",
              "        buttonEl.style.display =\n",
              "          google.colab.kernel.accessAllowed ? 'block' : 'none';\n",
              "\n",
              "        async function convertToInteractive(key) {\n",
              "          const element = document.querySelector('#df-52bf2b72-360c-4de3-8795-fa217190fd0e');\n",
              "          const dataTable =\n",
              "            await google.colab.kernel.invokeFunction('convertToInteractive',\n",
              "                                                     [key], {});\n",
              "          if (!dataTable) return;\n",
              "\n",
              "          const docLinkHtml = 'Like what you see? Visit the ' +\n",
              "            '<a target=\"_blank\" href=https://colab.research.google.com/notebooks/data_table.ipynb>data table notebook</a>'\n",
              "            + ' to learn more about interactive tables.';\n",
              "          element.innerHTML = '';\n",
              "          dataTable['output_type'] = 'display_data';\n",
              "          await google.colab.output.renderOutput(dataTable, element);\n",
              "          const docLink = document.createElement('div');\n",
              "          docLink.innerHTML = docLinkHtml;\n",
              "          element.appendChild(docLink);\n",
              "        }\n",
              "      </script>\n",
              "    </div>\n",
              "  </div>\n",
              "  "
            ],
            "text/plain": [
              "     Pclass                              Name   Sex   Age  SibSp  Parch  \\\n",
              "179       3               Leonard, Mr. Lionel  male  36.0      0      0   \n",
              "263       1             Harrison, Mr. William  male  40.0      0      0   \n",
              "271       3      Tornquist, Mr. William Henry  male  25.0      0      0   \n",
              "277       2       Parkes, Mr. Francis \"Frank\"  male   NaN      0      0   \n",
              "302       3   Johnson, Mr. William Cahoone Jr  male  19.0      0      0   \n",
              "413       2    Cunningham, Mr. Alfred Fleming  male   NaN      0      0   \n",
              "466       2             Campbell, Mr. William  male   NaN      0      0   \n",
              "481       2  Frost, Mr. Anthony Wood \"Archie\"  male   NaN      0      0   \n",
              "597       3               Johnson, Mr. Alfred  male  49.0      0      0   \n",
              "633       1     Parr, Mr. William Henry Marsh  male   NaN      0      0   \n",
              "\n",
              "     Ticket  Fare Embarked  \n",
              "179    LINE   0.0        S  \n",
              "263  112059   0.0        S  \n",
              "271    LINE   0.0        S  \n",
              "277  239853   0.0        S  \n",
              "302    LINE   0.0        S  \n",
              "413  239853   0.0        S  \n",
              "466  239853   0.0        S  \n",
              "481  239854   0.0        S  \n",
              "597    LINE   0.0        S  \n",
              "633  112052   0.0        S  "
            ]
          },
          "metadata": {},
          "output_type": "display_data"
        },
        {
          "data": {
            "text/html": [
              "\n",
              "  <div id=\"df-14c030be-7c06-4705-87ec-714bf587bbdc\">\n",
              "    <div class=\"colab-df-container\">\n",
              "      <div>\n",
              "<style scoped>\n",
              "    .dataframe tbody tr th:only-of-type {\n",
              "        vertical-align: middle;\n",
              "    }\n",
              "\n",
              "    .dataframe tbody tr th {\n",
              "        vertical-align: top;\n",
              "    }\n",
              "\n",
              "    .dataframe thead th {\n",
              "        text-align: right;\n",
              "    }\n",
              "</style>\n",
              "<table border=\"1\" class=\"dataframe\">\n",
              "  <thead>\n",
              "    <tr style=\"text-align: right;\">\n",
              "      <th></th>\n",
              "      <th>Pclass</th>\n",
              "      <th>Name</th>\n",
              "      <th>Sex</th>\n",
              "      <th>Age</th>\n",
              "      <th>SibSp</th>\n",
              "      <th>Parch</th>\n",
              "      <th>Ticket</th>\n",
              "      <th>Fare</th>\n",
              "      <th>Embarked</th>\n",
              "    </tr>\n",
              "  </thead>\n",
              "  <tbody>\n",
              "    <tr>\n",
              "      <th>27</th>\n",
              "      <td>1</td>\n",
              "      <td>Fortune, Mr. Charles Alexander</td>\n",
              "      <td>male</td>\n",
              "      <td>19.00</td>\n",
              "      <td>3</td>\n",
              "      <td>2</td>\n",
              "      <td>19950</td>\n",
              "      <td>263.0000</td>\n",
              "      <td>S</td>\n",
              "    </tr>\n",
              "    <tr>\n",
              "      <th>88</th>\n",
              "      <td>1</td>\n",
              "      <td>Fortune, Miss. Mabel Helen</td>\n",
              "      <td>female</td>\n",
              "      <td>23.00</td>\n",
              "      <td>3</td>\n",
              "      <td>2</td>\n",
              "      <td>19950</td>\n",
              "      <td>263.0000</td>\n",
              "      <td>S</td>\n",
              "    </tr>\n",
              "    <tr>\n",
              "      <th>118</th>\n",
              "      <td>1</td>\n",
              "      <td>Baxter, Mr. Quigg Edmond</td>\n",
              "      <td>male</td>\n",
              "      <td>24.00</td>\n",
              "      <td>0</td>\n",
              "      <td>1</td>\n",
              "      <td>PC 17558</td>\n",
              "      <td>247.5208</td>\n",
              "      <td>C</td>\n",
              "    </tr>\n",
              "    <tr>\n",
              "      <th>258</th>\n",
              "      <td>1</td>\n",
              "      <td>Ward, Miss. Anna</td>\n",
              "      <td>female</td>\n",
              "      <td>35.00</td>\n",
              "      <td>0</td>\n",
              "      <td>0</td>\n",
              "      <td>PC 17755</td>\n",
              "      <td>512.3292</td>\n",
              "      <td>C</td>\n",
              "    </tr>\n",
              "    <tr>\n",
              "      <th>268</th>\n",
              "      <td>1</td>\n",
              "      <td>Graham, Mrs. William Thompson (Edith Junkins)</td>\n",
              "      <td>female</td>\n",
              "      <td>58.00</td>\n",
              "      <td>0</td>\n",
              "      <td>1</td>\n",
              "      <td>PC 17582</td>\n",
              "      <td>153.4625</td>\n",
              "      <td>S</td>\n",
              "    </tr>\n",
              "    <tr>\n",
              "      <th>297</th>\n",
              "      <td>1</td>\n",
              "      <td>Allison, Miss. Helen Loraine</td>\n",
              "      <td>female</td>\n",
              "      <td>2.00</td>\n",
              "      <td>1</td>\n",
              "      <td>2</td>\n",
              "      <td>113781</td>\n",
              "      <td>151.5500</td>\n",
              "      <td>S</td>\n",
              "    </tr>\n",
              "    <tr>\n",
              "      <th>299</th>\n",
              "      <td>1</td>\n",
              "      <td>Baxter, Mrs. James (Helene DeLaudeniere Chaput)</td>\n",
              "      <td>female</td>\n",
              "      <td>50.00</td>\n",
              "      <td>0</td>\n",
              "      <td>1</td>\n",
              "      <td>PC 17558</td>\n",
              "      <td>247.5208</td>\n",
              "      <td>C</td>\n",
              "    </tr>\n",
              "    <tr>\n",
              "      <th>305</th>\n",
              "      <td>1</td>\n",
              "      <td>Allison, Master. Hudson Trevor</td>\n",
              "      <td>male</td>\n",
              "      <td>0.92</td>\n",
              "      <td>1</td>\n",
              "      <td>2</td>\n",
              "      <td>113781</td>\n",
              "      <td>151.5500</td>\n",
              "      <td>S</td>\n",
              "    </tr>\n",
              "    <tr>\n",
              "      <th>311</th>\n",
              "      <td>1</td>\n",
              "      <td>Ryerson, Miss. Emily Borie</td>\n",
              "      <td>female</td>\n",
              "      <td>18.00</td>\n",
              "      <td>2</td>\n",
              "      <td>2</td>\n",
              "      <td>PC 17608</td>\n",
              "      <td>262.3750</td>\n",
              "      <td>C</td>\n",
              "    </tr>\n",
              "    <tr>\n",
              "      <th>318</th>\n",
              "      <td>1</td>\n",
              "      <td>Wick, Miss. Mary Natalie</td>\n",
              "      <td>female</td>\n",
              "      <td>31.00</td>\n",
              "      <td>0</td>\n",
              "      <td>2</td>\n",
              "      <td>36928</td>\n",
              "      <td>164.8667</td>\n",
              "      <td>S</td>\n",
              "    </tr>\n",
              "    <tr>\n",
              "      <th>332</th>\n",
              "      <td>1</td>\n",
              "      <td>Graham, Mr. George Edward</td>\n",
              "      <td>male</td>\n",
              "      <td>38.00</td>\n",
              "      <td>0</td>\n",
              "      <td>1</td>\n",
              "      <td>PC 17582</td>\n",
              "      <td>153.4625</td>\n",
              "      <td>S</td>\n",
              "    </tr>\n",
              "    <tr>\n",
              "      <th>341</th>\n",
              "      <td>1</td>\n",
              "      <td>Fortune, Miss. Alice Elizabeth</td>\n",
              "      <td>female</td>\n",
              "      <td>24.00</td>\n",
              "      <td>3</td>\n",
              "      <td>2</td>\n",
              "      <td>19950</td>\n",
              "      <td>263.0000</td>\n",
              "      <td>S</td>\n",
              "    </tr>\n",
              "    <tr>\n",
              "      <th>377</th>\n",
              "      <td>1</td>\n",
              "      <td>Widener, Mr. Harry Elkins</td>\n",
              "      <td>male</td>\n",
              "      <td>27.00</td>\n",
              "      <td>0</td>\n",
              "      <td>2</td>\n",
              "      <td>113503</td>\n",
              "      <td>211.5000</td>\n",
              "      <td>C</td>\n",
              "    </tr>\n",
              "    <tr>\n",
              "      <th>380</th>\n",
              "      <td>1</td>\n",
              "      <td>Bidois, Miss. Rosalie</td>\n",
              "      <td>female</td>\n",
              "      <td>42.00</td>\n",
              "      <td>0</td>\n",
              "      <td>0</td>\n",
              "      <td>PC 17757</td>\n",
              "      <td>227.5250</td>\n",
              "      <td>C</td>\n",
              "    </tr>\n",
              "    <tr>\n",
              "      <th>438</th>\n",
              "      <td>1</td>\n",
              "      <td>Fortune, Mr. Mark</td>\n",
              "      <td>male</td>\n",
              "      <td>64.00</td>\n",
              "      <td>1</td>\n",
              "      <td>4</td>\n",
              "      <td>19950</td>\n",
              "      <td>263.0000</td>\n",
              "      <td>S</td>\n",
              "    </tr>\n",
              "    <tr>\n",
              "      <th>498</th>\n",
              "      <td>1</td>\n",
              "      <td>Allison, Mrs. Hudson J C (Bessie Waldo Daniels)</td>\n",
              "      <td>female</td>\n",
              "      <td>25.00</td>\n",
              "      <td>1</td>\n",
              "      <td>2</td>\n",
              "      <td>113781</td>\n",
              "      <td>151.5500</td>\n",
              "      <td>S</td>\n",
              "    </tr>\n",
              "    <tr>\n",
              "      <th>527</th>\n",
              "      <td>1</td>\n",
              "      <td>Farthing, Mr. John</td>\n",
              "      <td>male</td>\n",
              "      <td>NaN</td>\n",
              "      <td>0</td>\n",
              "      <td>0</td>\n",
              "      <td>PC 17483</td>\n",
              "      <td>221.7792</td>\n",
              "      <td>S</td>\n",
              "    </tr>\n",
              "    <tr>\n",
              "      <th>557</th>\n",
              "      <td>1</td>\n",
              "      <td>Robbins, Mr. Victor</td>\n",
              "      <td>male</td>\n",
              "      <td>NaN</td>\n",
              "      <td>0</td>\n",
              "      <td>0</td>\n",
              "      <td>PC 17757</td>\n",
              "      <td>227.5250</td>\n",
              "      <td>C</td>\n",
              "    </tr>\n",
              "    <tr>\n",
              "      <th>609</th>\n",
              "      <td>1</td>\n",
              "      <td>Shutes, Miss. Elizabeth W</td>\n",
              "      <td>female</td>\n",
              "      <td>40.00</td>\n",
              "      <td>0</td>\n",
              "      <td>0</td>\n",
              "      <td>PC 17582</td>\n",
              "      <td>153.4625</td>\n",
              "      <td>S</td>\n",
              "    </tr>\n",
              "  </tbody>\n",
              "</table>\n",
              "</div>\n",
              "      <button class=\"colab-df-convert\" onclick=\"convertToInteractive('df-14c030be-7c06-4705-87ec-714bf587bbdc')\"\n",
              "              title=\"Convert this dataframe to an interactive table.\"\n",
              "              style=\"display:none;\">\n",
              "        \n",
              "  <svg xmlns=\"http://www.w3.org/2000/svg\" height=\"24px\"viewBox=\"0 0 24 24\"\n",
              "       width=\"24px\">\n",
              "    <path d=\"M0 0h24v24H0V0z\" fill=\"none\"/>\n",
              "    <path d=\"M18.56 5.44l.94 2.06.94-2.06 2.06-.94-2.06-.94-.94-2.06-.94 2.06-2.06.94zm-11 1L8.5 8.5l.94-2.06 2.06-.94-2.06-.94L8.5 2.5l-.94 2.06-2.06.94zm10 10l.94 2.06.94-2.06 2.06-.94-2.06-.94-.94-2.06-.94 2.06-2.06.94z\"/><path d=\"M17.41 7.96l-1.37-1.37c-.4-.4-.92-.59-1.43-.59-.52 0-1.04.2-1.43.59L10.3 9.45l-7.72 7.72c-.78.78-.78 2.05 0 2.83L4 21.41c.39.39.9.59 1.41.59.51 0 1.02-.2 1.41-.59l7.78-7.78 2.81-2.81c.8-.78.8-2.07 0-2.86zM5.41 20L4 18.59l7.72-7.72 1.47 1.35L5.41 20z\"/>\n",
              "  </svg>\n",
              "      </button>\n",
              "      \n",
              "  <style>\n",
              "    .colab-df-container {\n",
              "      display:flex;\n",
              "      flex-wrap:wrap;\n",
              "      gap: 12px;\n",
              "    }\n",
              "\n",
              "    .colab-df-convert {\n",
              "      background-color: #E8F0FE;\n",
              "      border: none;\n",
              "      border-radius: 50%;\n",
              "      cursor: pointer;\n",
              "      display: none;\n",
              "      fill: #1967D2;\n",
              "      height: 32px;\n",
              "      padding: 0 0 0 0;\n",
              "      width: 32px;\n",
              "    }\n",
              "\n",
              "    .colab-df-convert:hover {\n",
              "      background-color: #E2EBFA;\n",
              "      box-shadow: 0px 1px 2px rgba(60, 64, 67, 0.3), 0px 1px 3px 1px rgba(60, 64, 67, 0.15);\n",
              "      fill: #174EA6;\n",
              "    }\n",
              "\n",
              "    [theme=dark] .colab-df-convert {\n",
              "      background-color: #3B4455;\n",
              "      fill: #D2E3FC;\n",
              "    }\n",
              "\n",
              "    [theme=dark] .colab-df-convert:hover {\n",
              "      background-color: #434B5C;\n",
              "      box-shadow: 0px 1px 3px 1px rgba(0, 0, 0, 0.15);\n",
              "      filter: drop-shadow(0px 1px 2px rgba(0, 0, 0, 0.3));\n",
              "      fill: #FFFFFF;\n",
              "    }\n",
              "  </style>\n",
              "\n",
              "      <script>\n",
              "        const buttonEl =\n",
              "          document.querySelector('#df-14c030be-7c06-4705-87ec-714bf587bbdc button.colab-df-convert');\n",
              "        buttonEl.style.display =\n",
              "          google.colab.kernel.accessAllowed ? 'block' : 'none';\n",
              "\n",
              "        async function convertToInteractive(key) {\n",
              "          const element = document.querySelector('#df-14c030be-7c06-4705-87ec-714bf587bbdc');\n",
              "          const dataTable =\n",
              "            await google.colab.kernel.invokeFunction('convertToInteractive',\n",
              "                                                     [key], {});\n",
              "          if (!dataTable) return;\n",
              "\n",
              "          const docLinkHtml = 'Like what you see? Visit the ' +\n",
              "            '<a target=\"_blank\" href=https://colab.research.google.com/notebooks/data_table.ipynb>data table notebook</a>'\n",
              "            + ' to learn more about interactive tables.';\n",
              "          element.innerHTML = '';\n",
              "          dataTable['output_type'] = 'display_data';\n",
              "          await google.colab.output.renderOutput(dataTable, element);\n",
              "          const docLink = document.createElement('div');\n",
              "          docLink.innerHTML = docLinkHtml;\n",
              "          element.appendChild(docLink);\n",
              "        }\n",
              "      </script>\n",
              "    </div>\n",
              "  </div>\n",
              "  "
            ],
            "text/plain": [
              "     Pclass                                             Name     Sex    Age  \\\n",
              "27        1                   Fortune, Mr. Charles Alexander    male  19.00   \n",
              "88        1                       Fortune, Miss. Mabel Helen  female  23.00   \n",
              "118       1                         Baxter, Mr. Quigg Edmond    male  24.00   \n",
              "258       1                                 Ward, Miss. Anna  female  35.00   \n",
              "268       1    Graham, Mrs. William Thompson (Edith Junkins)  female  58.00   \n",
              "297       1                     Allison, Miss. Helen Loraine  female   2.00   \n",
              "299       1  Baxter, Mrs. James (Helene DeLaudeniere Chaput)  female  50.00   \n",
              "305       1                   Allison, Master. Hudson Trevor    male   0.92   \n",
              "311       1                       Ryerson, Miss. Emily Borie  female  18.00   \n",
              "318       1                         Wick, Miss. Mary Natalie  female  31.00   \n",
              "332       1                        Graham, Mr. George Edward    male  38.00   \n",
              "341       1                   Fortune, Miss. Alice Elizabeth  female  24.00   \n",
              "377       1                        Widener, Mr. Harry Elkins    male  27.00   \n",
              "380       1                            Bidois, Miss. Rosalie  female  42.00   \n",
              "438       1                                Fortune, Mr. Mark    male  64.00   \n",
              "498       1  Allison, Mrs. Hudson J C (Bessie Waldo Daniels)  female  25.00   \n",
              "527       1                               Farthing, Mr. John    male    NaN   \n",
              "557       1                              Robbins, Mr. Victor    male    NaN   \n",
              "609       1                        Shutes, Miss. Elizabeth W  female  40.00   \n",
              "\n",
              "     SibSp  Parch    Ticket      Fare Embarked  \n",
              "27       3      2     19950  263.0000        S  \n",
              "88       3      2     19950  263.0000        S  \n",
              "118      0      1  PC 17558  247.5208        C  \n",
              "258      0      0  PC 17755  512.3292        C  \n",
              "268      0      1  PC 17582  153.4625        S  \n",
              "297      1      2    113781  151.5500        S  \n",
              "299      0      1  PC 17558  247.5208        C  \n",
              "305      1      2    113781  151.5500        S  \n",
              "311      2      2  PC 17608  262.3750        C  \n",
              "318      0      2     36928  164.8667        S  \n",
              "332      0      1  PC 17582  153.4625        S  \n",
              "341      3      2     19950  263.0000        S  \n",
              "377      0      2    113503  211.5000        C  \n",
              "380      0      0  PC 17757  227.5250        C  \n",
              "438      1      4     19950  263.0000        S  \n",
              "498      1      2    113781  151.5500        S  \n",
              "527      0      0  PC 17483  221.7792        S  \n",
              "557      0      0  PC 17757  227.5250        C  \n",
              "609      0      0  PC 17582  153.4625        S  "
            ]
          },
          "metadata": {},
          "output_type": "display_data"
        }
      ],
      "source": [
        "display(X_train_raw[X_train_raw[\"Fare\"] == 0])\n",
        "display(X_train_raw[X_train_raw[\"Fare\"] > 150])"
      ]
    },
    {
      "cell_type": "markdown",
      "metadata": {
        "id": "a_9r6LuOtxCu"
      },
      "source": [
        "What to do with these outliers?"
      ]
    },
    {
      "cell_type": "markdown",
      "metadata": {
        "id": "DF6ZOUuylyal"
      },
      "source": [
        "##### Check Embarked (Categorical)"
      ]
    },
    {
      "cell_type": "code",
      "execution_count": null,
      "metadata": {
        "colab": {
          "base_uri": "https://localhost:8080/"
        },
        "id": "c5WA9Q9WmMAD",
        "outputId": "1e73715c-1fb4-4e34-cd29-5e91880d0af9"
      },
      "outputs": [
        {
          "output_type": "stream",
          "name": "stdout",
          "text": [
            "['S' 'C' 'Q' nan]\n",
            "1\n"
          ]
        }
      ],
      "source": [
        "embarked_series = X_train_raw[\"Embarked\"]\n",
        "print(embarked_series.unique())\n",
        "print(embarked_series.isnull().sum())"
      ]
    },
    {
      "cell_type": "markdown",
      "metadata": {
        "id": "eimO6mkAmLE3"
      },
      "source": [
        "### Data Preprocessing"
      ]
    },
    {
      "cell_type": "code",
      "source": [
        "def impute_data(X_train, X_test, feature, numerical):\n",
        "  \"\"\" \n",
        "  I will use mean of the values from the column where the data is missing and\n",
        "  then fill that missing values with the mean.\n",
        "  \"\"\"\n",
        "\n",
        "  if numerical:\n",
        "    to_fill = float(int(X_train[feature].mean()))\n",
        "  else:\n",
        "    to_fill = X_train[feature].mode()[0]\n",
        "\n",
        "  # Use the mean to fill all empty values from that column with the mean value\n",
        "  X_train[feature] = X_train[feature].fillna(to_fill)\n",
        "  X_test[feature] = X_test[feature].fillna(to_fill)\n",
        "\n",
        "  return X_train, X_test"
      ],
      "metadata": {
        "id": "e5I3AhZQkChg"
      },
      "execution_count": 16,
      "outputs": []
    },
    {
      "cell_type": "code",
      "source": [
        "def encode_data(X, Encoder):\n",
        "  # Get textual data\n",
        "  X_categorical = X.select_dtypes(exclude=np.number)\n",
        "\n",
        "  # Encode data using given Encoder\n",
        "  X_categorical_encoded = Encoder().fit_transform(X_categorical)\n",
        "\n",
        "  encoded_df = pd.DataFrame()\n",
        "  encoded_df[\"Sex\"] = X_categorical_encoded[:, 0]\n",
        "  encoded_df[\"Embarked\"] = X_categorical_encoded[:, 1]\n",
        "\n",
        "  # Convert numerical age values into categorical values\n",
        "  encoded_df[\"Age\"] = pd.cut(X[\"Age\"], bins=[0, 18, 50, 90], labels=[1, 2, 3])\n",
        "  encoded_df[\"Pclass\"] = X[\"Pclass\"]\n",
        "  return encoded_df"
      ],
      "metadata": {
        "id": "yv_p9dUFyeIO"
      },
      "execution_count": 15,
      "outputs": []
    },
    {
      "cell_type": "code",
      "source": [
        "def standardise_data(X):\n",
        "  # Use standard Scaler for the fare, SibSp, Parch.\n",
        "  X_numerical_standardised = StandardScaler().fit_transform(X[[\"Fare\", \"SibSp\", \"Parch\"]])\n",
        "\n",
        "  standardised_df = pd.DataFrame()\n",
        "  standardised_df[\"Fare\"] = X_numerical_standardised[:, 0]\n",
        "  standardised_df[\"SibSp\"] = X_numerical_standardised[:, 1]\n",
        "  standardised_df[\"Parch\"] = X_numerical_standardised[:, 2]\n",
        "\n",
        "  return standardised_df"
      ],
      "metadata": {
        "id": "xtuGykFxzwzV"
      },
      "execution_count": 14,
      "outputs": []
    },
    {
      "cell_type": "code",
      "execution_count": 13,
      "metadata": {
        "id": "7O8UPzImsMDS"
      },
      "outputs": [],
      "source": [
        "# Create preprocessing pipeline\n",
        "def preprocess_data(X_train_raw, X_test_raw):\n",
        "\n",
        "  X_train = X_train_raw.copy()\n",
        "  X_test = X_test_raw.copy()\n",
        "\n",
        "  # Firstly replace zeros in fare column\n",
        "  rd_class_passengers = X_train[(X_train_raw[\"Fare\"] != 0) & (X_train[\"Pclass\"] == 3)]\n",
        "  nd_class_passengers = X_train[(X_train_raw[\"Fare\"] != 0) & (X_train[\"Pclass\"] == 2)]\n",
        "  st_class_passengers = X_train[(X_train_raw[\"Fare\"] != 0) & (X_train[\"Pclass\"] == 1)]\n",
        "\n",
        "  # Replace values in Train data set\n",
        "  X_train.loc[(X_train[\"Fare\"] == 0) & (X_train[\"Pclass\"] == 3), \"Fare\"] = rd_class_passengers[\"Fare\"].mean()\n",
        "  X_train.loc[(X_train[\"Fare\"] == 0) & (X_train[\"Pclass\"] == 2), \"Fare\"] = nd_class_passengers[\"Fare\"].mean()\n",
        "  X_train.loc[(X_train[\"Fare\"] == 0) & (X_train[\"Pclass\"] == 1), \"Fare\"] = st_class_passengers[\"Fare\"].mean()\n",
        "\n",
        "  # Replace values in test data set by using already calculated means\n",
        "  X_test.loc[(X_train[\"Fare\"] == 0) & (X_test[\"Pclass\"] == 3), \"Fare\"] = rd_class_passengers[\"Fare\"].mean()\n",
        "  X_test.loc[(X_train[\"Fare\"] == 0) & (X_test[\"Pclass\"] == 2), \"Fare\"] = nd_class_passengers[\"Fare\"].mean()\n",
        "  X_test.loc[(X_train[\"Fare\"] == 0) & (X_test[\"Pclass\"] == 1), \"Fare\"] = st_class_passengers[\"Fare\"].mean()\n",
        "\n",
        "  # Fill missing data for the age column\n",
        "  X_train, X_test = impute_data(X_train, X_test, \"Age\", numerical=True)\n",
        "  X_train, X_test = impute_data(X_train, X_test, \"Embarked\", numerical=False)\n",
        "\n",
        "  # Remove Name and Ticket column\n",
        "  X_train = X_train.drop([\"Name\", \"Ticket\"], axis=1)\n",
        "  X_test = X_test.drop([\"Name\", \"Ticket\"], axis=1)\n",
        "\n",
        "  # Combine These features together\n",
        "  X_train = pd.concat([standardise_data(X_train), encode_data(X_train, OrdinalEncoder)], axis=1)\n",
        "  X_test = pd.concat([standardise_data(X_test), encode_data(X_test, OrdinalEncoder)], axis=1)\n",
        "\n",
        "\n",
        "  return X_train, X_test\n"
      ]
    },
    {
      "cell_type": "code",
      "source": [
        "X_train, X_test = preprocess_data(X_train_raw, X_test_raw)\n",
        "#X_train = X_train[[\"Sex\"]]\n",
        "#X_test = X_test[[\"Sex\"]]\n"
      ],
      "metadata": {
        "id": "OB1FJ5Rydwp_"
      },
      "execution_count": 17,
      "outputs": []
    },
    {
      "cell_type": "markdown",
      "metadata": {
        "id": "09rp8S60ELrm"
      },
      "source": [
        "### Fitting the models\n",
        "\n",
        "For the classification task I am going to use, Logistic Regression and Support Vector Machines (SVM)"
      ]
    },
    {
      "cell_type": "code",
      "source": [
        "def show_results(y_pred, y_true):\n",
        "  print(\"Accuracy: \", accuracy_score(y_true, y_pred))\n",
        "  print(\"F1 score: \", f1_score(y_true, y_pred))\n",
        "\n",
        "  metrics.ConfusionMatrixDisplay.from_predictions(y_true, y_pred)\n",
        "  metrics.RocCurveDisplay.from_predictions(y_true, y_pred)\n",
        "  plt.show()"
      ],
      "metadata": {
        "id": "dc7uxMRHc-aw"
      },
      "execution_count": 21,
      "outputs": []
    },
    {
      "cell_type": "markdown",
      "source": [
        "#### Logistic Regression"
      ],
      "metadata": {
        "id": "NthyBeQgYiaW"
      }
    },
    {
      "cell_type": "code",
      "source": [
        "model_logistic = LogisticRegression()\n",
        "model_logistic.fit(X_train, y_train)\n",
        "\n",
        "y_train_pred = model_logistic.predict(X_train)\n",
        "y_test_pred = model_logistic.predict(X_test)"
      ],
      "metadata": {
        "id": "bgiDBX1UQZz_"
      },
      "execution_count": 23,
      "outputs": []
    },
    {
      "cell_type": "code",
      "source": [
        "show_results(y_test_pred, y_test)"
      ],
      "metadata": {
        "id": "yRTbL7uDZFml",
        "colab": {
          "base_uri": "https://localhost:8080/",
          "height": 575
        },
        "outputId": "76e576ff-3f5e-4a28-d51b-c6500788b355"
      },
      "execution_count": 24,
      "outputs": [
        {
          "output_type": "stream",
          "name": "stdout",
          "text": [
            "Accuracy:  0.8132780082987552\n",
            "F1 score:  0.7204968944099379\n"
          ]
        },
        {
          "output_type": "display_data",
          "data": {
            "text/plain": [
              "<Figure size 432x288 with 2 Axes>"
            ],
            "image/png": "[encoded data removed]"
          },
          "metadata": {
            "needs_background": "light"
          }
        },
        {
          "output_type": "display_data",
          "data": {
            "text/plain": [
              "<Figure size 432x288 with 1 Axes>"
            ],
            "image/png": "[encoded data removed]"
          },
          "metadata": {
            "needs_background": "light"
          }
        }
      ]
    },
    {
      "cell_type": "markdown",
      "source": [
        "#### SVM"
      ],
      "metadata": {
        "id": "-MpU5CSAhwo0"
      }
    },
    {
      "cell_type": "code",
      "source": [
        "param_grid = [\n",
        "  {'C': [1, 10, 100, 1000], 'kernel': ['linear']},\n",
        "  {'C': [1, 10, 100, 1000], 'gamma': [0.001, 0.0001], 'kernel': ['rbf']},\n",
        "  {\"degree\": [1, 2, 3, 4, 5, 6, 7, 8], 'kernel': ['poly'], 'coef0': [0, 0.3, 0.6, 1, 1.3, 1.6, 3]}\n",
        "]\n",
        "\n",
        "grid_search_estimator = GridSearchCV(SVC(), param_grid, scoring='f1')\n",
        "grid_search_estimator.fit(X_train, y_train)"
      ],
      "metadata": {
        "id": "YkJZlgVaeRpS"
      },
      "execution_count": null,
      "outputs": []
    },
    {
      "cell_type": "code",
      "source": [
        "grid_search_estimator.cv_results_"
      ],
      "metadata": {
        "colab": {
          "base_uri": "https://localhost:8080/"
        },
        "id": "qKe-lxdWZHH-",
        "outputId": "9dab0c73-b39b-4327-e8c8-172ca93d5eb5"
      },
      "execution_count": 62,
      "outputs": [
        {
          "output_type": "execute_result",
          "data": {
            "text/plain": [
              "{'mean_fit_time': array([1.71032906e-02, 2.29928970e-02, 5.16596699e+00, 1.40559303e+01,\n",
              "        9.98568535e-03, 1.00457191e-02, 1.04995728e-02, 1.01079941e-02,\n",
              "        1.39279842e-02, 9.37657356e-03, 2.35916615e-02, 2.38698959e-02,\n",
              "        5.90829849e-03, 8.46571922e-03, 8.12683105e-03, 1.08945847e-02,\n",
              "        1.23471737e-02, 1.35282040e-02, 1.50037289e-02, 1.53910160e-02]),\n",
              " 'std_fit_time': array([9.84655227e-03, 1.15309428e-02, 1.84387292e+00, 3.11391901e+00,\n",
              "        1.35030904e-04, 4.73470135e-04, 1.65501557e-03, 1.96619337e-04,\n",
              "        1.63941063e-03, 2.02444831e-04, 4.04881101e-03, 2.78917688e-03,\n",
              "        3.77649021e-04, 5.97202161e-04, 2.33727345e-04, 7.37966139e-04,\n",
              "        2.29038905e-03, 1.46421077e-03, 1.09545867e-03, 1.08454654e-03]),\n",
              " 'mean_score_time': array([0.00852599, 0.00608921, 0.00303926, 0.00348854, 0.0049438 ,\n",
              "        0.0048367 , 0.00465226, 0.0054769 , 0.00400343, 0.00410008,\n",
              "        0.00351229, 0.00384479, 0.00271797, 0.00276484, 0.0025075 ,\n",
              "        0.00277729, 0.00305924, 0.00311604, 0.00313902, 0.00298924]),\n",
              " 'std_score_time': array([5.15011770e-03, 3.42246035e-03, 5.90478834e-05, 8.80581443e-04,\n",
              "        1.89911460e-04, 1.65489879e-04, 1.46812655e-04, 5.20175565e-04,\n",
              "        2.75581088e-04, 1.79439848e-04, 1.06906168e-04, 9.54392163e-05,\n",
              "        4.59191410e-04, 1.72452930e-04, 1.58358503e-04, 2.21280104e-04,\n",
              "        1.25871246e-04, 1.39608979e-04, 1.46005404e-04, 1.41242305e-04]),\n",
              " 'param_C': masked_array(data=[1, 10, 100, 1000, 1, 1, 10, 10, 100, 100, 1000, 1000,\n",
              "                    --, --, --, --, --, --, --, --],\n",
              "              mask=[False, False, False, False, False, False, False, False,\n",
              "                    False, False, False, False,  True,  True,  True,  True,\n",
              "                     True,  True,  True,  True],\n",
              "        fill_value='?',\n",
              "             dtype=object),\n",
              " 'param_kernel': masked_array(data=['linear', 'linear', 'linear', 'linear', 'rbf', 'rbf',\n",
              "                    'rbf', 'rbf', 'rbf', 'rbf', 'rbf', 'rbf', 'poly',\n",
              "                    'poly', 'poly', 'poly', 'poly', 'poly', 'poly', 'poly'],\n",
              "              mask=[False, False, False, False, False, False, False, False,\n",
              "                    False, False, False, False, False, False, False, False,\n",
              "                    False, False, False, False],\n",
              "        fill_value='?',\n",
              "             dtype=object),\n",
              " 'param_gamma': masked_array(data=[--, --, --, --, 0.001, 0.0001, 0.001, 0.0001, 0.001,\n",
              "                    0.0001, 0.001, 0.0001, --, --, --, --, --, --, --, --],\n",
              "              mask=[ True,  True,  True,  True, False, False, False, False,\n",
              "                    False, False, False, False,  True,  True,  True,  True,\n",
              "                     True,  True,  True,  True],\n",
              "        fill_value='?',\n",
              "             dtype=object),\n",
              " 'param_degree': masked_array(data=[--, --, --, --, --, --, --, --, --, --, --, --, 1, 2,\n",
              "                    3, 4, 5, 6, 7, 8],\n",
              "              mask=[ True,  True,  True,  True,  True,  True,  True,  True,\n",
              "                     True,  True,  True,  True, False, False, False, False,\n",
              "                    False, False, False, False],\n",
              "        fill_value='?',\n",
              "             dtype=object),\n",
              " 'params': [{'C': 1, 'kernel': 'linear'},\n",
              "  {'C': 10, 'kernel': 'linear'},\n",
              "  {'C': 100, 'kernel': 'linear'},\n",
              "  {'C': 1000, 'kernel': 'linear'},\n",
              "  {'C': 1, 'gamma': 0.001, 'kernel': 'rbf'},\n",
              "  {'C': 1, 'gamma': 0.0001, 'kernel': 'rbf'},\n",
              "  {'C': 10, 'gamma': 0.001, 'kernel': 'rbf'},\n",
              "  {'C': 10, 'gamma': 0.0001, 'kernel': 'rbf'},\n",
              "  {'C': 100, 'gamma': 0.001, 'kernel': 'rbf'},\n",
              "  {'C': 100, 'gamma': 0.0001, 'kernel': 'rbf'},\n",
              "  {'C': 1000, 'gamma': 0.001, 'kernel': 'rbf'},\n",
              "  {'C': 1000, 'gamma': 0.0001, 'kernel': 'rbf'},\n",
              "  {'degree': 1, 'kernel': 'poly'},\n",
              "  {'degree': 2, 'kernel': 'poly'},\n",
              "  {'degree': 3, 'kernel': 'poly'},\n",
              "  {'degree': 4, 'kernel': 'poly'},\n",
              "  {'degree': 5, 'kernel': 'poly'},\n",
              "  {'degree': 6, 'kernel': 'poly'},\n",
              "  {'degree': 7, 'kernel': 'poly'},\n",
              "  {'degree': 8, 'kernel': 'poly'}],\n",
              " 'split0_test_score': array([0.8       , 0.8       , 0.8       , 0.8       , 0.6       ,\n",
              "        0.60769231, 0.79230769, 0.60769231, 0.8       , 0.79230769,\n",
              "        0.8       , 0.8       , 0.8       , 0.8       , 0.80769231,\n",
              "        0.77692308, 0.8       , 0.8       , 0.77692308, 0.76923077]),\n",
              " 'split1_test_score': array([0.78461538, 0.78461538, 0.78461538, 0.78461538, 0.61538462,\n",
              "        0.60769231, 0.79230769, 0.61538462, 0.78461538, 0.78461538,\n",
              "        0.79230769, 0.78461538, 0.78461538, 0.79230769, 0.80769231,\n",
              "        0.81538462, 0.79230769, 0.78461538, 0.73846154, 0.73846154]),\n",
              " 'split2_test_score': array([0.84615385, 0.84615385, 0.84615385, 0.84615385, 0.60769231,\n",
              "        0.60769231, 0.84615385, 0.60769231, 0.84615385, 0.84615385,\n",
              "        0.84615385, 0.84615385, 0.84615385, 0.85384615, 0.85384615,\n",
              "        0.83846154, 0.82307692, 0.83076923, 0.81538462, 0.79230769]),\n",
              " 'split3_test_score': array([0.74615385, 0.74615385, 0.74615385, 0.74615385, 0.60769231,\n",
              "        0.60769231, 0.74615385, 0.60769231, 0.74615385, 0.74615385,\n",
              "        0.74615385, 0.74615385, 0.74615385, 0.74615385, 0.75384615,\n",
              "        0.76153846, 0.77692308, 0.78461538, 0.76923077, 0.77692308]),\n",
              " 'split4_test_score': array([0.75384615, 0.75384615, 0.75384615, 0.75384615, 0.6       ,\n",
              "        0.6       , 0.75384615, 0.6       , 0.75384615, 0.75384615,\n",
              "        0.75384615, 0.75384615, 0.75384615, 0.76923077, 0.79230769,\n",
              "        0.8       , 0.80769231, 0.81538462, 0.82307692, 0.83076923]),\n",
              " 'mean_test_score': array([0.78615385, 0.78615385, 0.78615385, 0.78615385, 0.60615385,\n",
              "        0.60615385, 0.78615385, 0.60769231, 0.78615385, 0.78461538,\n",
              "        0.78769231, 0.78615385, 0.78615385, 0.79230769, 0.80307692,\n",
              "        0.79846154, 0.8       , 0.80307692, 0.78461538, 0.78153846]),\n",
              " 'std_test_score': array([0.03588278, 0.03588278, 0.03588278, 0.03588278, 0.0057564 ,\n",
              "        0.00307692, 0.03555145, 0.00486504, 0.03588278, 0.03541804,\n",
              "        0.03594868, 0.03588278, 0.03588278, 0.03608012, 0.03212402,\n",
              "        0.02726161, 0.01538462, 0.01794139, 0.03115147, 0.03022597]),\n",
              " 'rank_test_score': array([ 7,  7,  7,  7, 19, 20, 14, 18,  7, 15,  6,  7,  7,  5,  1,  4,  3,\n",
              "         1, 16, 17], dtype=int32)}"
            ]
          },
          "metadata": {},
          "execution_count": 62
        }
      ]
    },
    {
      "cell_type": "code",
      "source": [
        "model_svm = SVC(degree=8, kernel=\"poly\")\n",
        "model_svm.fit(X_train, y_train)\n",
        "\n",
        "y_train_pred = model_svm.predict(X_train)\n",
        "y_test_pred = model_svm.predict(X_test)"
      ],
      "metadata": {
        "id": "7m03wHoJZ73m"
      },
      "execution_count": 19,
      "outputs": []
    },
    {
      "cell_type": "code",
      "source": [
        "show_results(y_test_pred, y_test)"
      ],
      "metadata": {
        "colab": {
          "base_uri": "https://localhost:8080/",
          "height": 575
        },
        "id": "6O3KpXEUmnz6",
        "outputId": "c9d587cb-9016-47ff-c1cc-1c9308d51729"
      },
      "execution_count": 22,
      "outputs": [
        {
          "output_type": "stream",
          "name": "stdout",
          "text": [
            "Accuracy:  0.8298755186721992\n",
            "F1 score:  0.7602339181286549\n"
          ]
        },
        {
          "output_type": "display_data",
          "data": {
            "text/plain": [
              "<Figure size 432x288 with 2 Axes>"
            ],
            "image/png": "[encoded data removed]"
          },
          "metadata": {
            "needs_background": "light"
          }
        },
        {
          "output_type": "display_data",
          "data": {
            "text/plain": [
              "<Figure size 432x288 with 1 Axes>"
            ],
            "image/png": "[encoded data removed]"
          },
          "metadata": {
            "needs_background": "light"
          }
        }
      ]
    },
    {
      "cell_type": "code",
      "source": [
        "# Plot outputs\n",
        "xrange = [-2, 6]\n",
        "yrange = [-2, 6]\n",
        "step = 0.1\n",
        "x = np.arange(xrange[0], xrange[1], step)\n",
        "y = np.arange(yrange[0], yrange[1], step)\n",
        "xx, yy = np.meshgrid(x, y)\n",
        "z = - scipy.special.logit(model_logistic.predict_proba(np.c_[xx.reshape([-1]), yy.reshape([-1])])[:, 0].reshape(xx.shape))\n",
        "plt.contourf(xx, yy, z, cmap='bwr', vmin=-20.0, vmax=20.0, levels=200)\n",
        "\n",
        "X_new_neg = X_test[y_test==0]\n",
        "X_new_pos = X_test[y_test==1]\n",
        "plt.scatter(X_new_neg.values[:, 0], X_new_neg.values[:, 1],  color='blue', label='not survived')\n",
        "plt.scatter(X_new_pos.values[:, 0], X_new_pos.values[:, 1],  color='red', label='survived')\n",
        "\n",
        "plt.xlim(xrange)\n",
        "plt.ylim(yrange)\n",
        "\n",
        "plt.xlabel(\"Age\")\n",
        "plt.ylabel(\"Fare\")\n",
        "\n",
        "plt.legend()\n",
        "\n",
        "plt.show()"
      ],
      "metadata": {
        "id": "kJKdbkAIBZID"
      },
      "execution_count": null,
      "outputs": []
    },
    {
      "cell_type": "code",
      "source": [],
      "metadata": {
        "id": "oNW1PZSP0cvI"
      },
      "execution_count": null,
      "outputs": []
    }
  ],
  "metadata": {
    "colab": {
      "provenance": [],
      "collapsed_sections": [
        "Cd2wzqtVcVzG",
        "Mf87yfzMTh5L",
        "iQYHH3x6TexJ",
        "k83-BSsKQ4P1",
        "Lsi75r1dTqht",
        "dasvCc8mn9JB",
        "bBo5NQh8eeJu",
        "Op64CFCxh6fp",
        "sRSmddhpi5YU",
        "sbrj-BlvjGN9",
        "dLN4g6nTj5kP",
        "icopEXIOkxbW",
        "brEYFdQtlCwk",
        "TLP8dfKGlWim",
        "NtJ-8CbdlvjQ",
        "DF6ZOUuylyal",
        "eimO6mkAmLE3",
        "09rp8S60ELrm",
        "-MpU5CSAhwo0"
      ]
    },
    "gpuClass": "standard",
    "kernelspec": {
      "display_name": "Python 3",
      "name": "python3"
    },
    "language_info": {
      "name": "python"
    }
  },
  "nbformat": 4,
  "nbformat_minor": 0
}